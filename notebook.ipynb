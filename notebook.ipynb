{
 "cells": [
  {
   "attachments": {},
   "cell_type": "markdown",
   "metadata": {},
   "source": [
    "<center>\n",
    "\n",
    "# **TRỰC QUAN HÓA DỮ LIỆU**\n",
    "\n",
    "## **Lab 1<br>Mối quan hệ của dữ liệu<br>Nhóm 6 - 20KHDL-MMT-CNTT**\n",
    "\n",
    "</center>"
   ]
  },
  {
   "attachments": {},
   "cell_type": "markdown",
   "metadata": {},
   "source": [
    "<center>\n",
    "\n",
    "# **Thành viên nhóm**\n",
    "\n",
    "| Mã số sinh viên |     Họ và tên      |\n",
    "|-----------------|--------------------|\n",
    "|20127130         | Bùi Tiến Đạt       |\n",
    "|20127443         | Nguyễn Hồ Hữu Bằng |\n",
    "|20127612         | Đỗ Khánh Sang      |\n",
    "|20127613         | Phan Thanh Sang    |\n",
    "|20127684         | Mai Trần Khánh Duy |\n",
    "\n",
    "</center>"
   ]
  },
  {
   "attachments": {},
   "cell_type": "markdown",
   "metadata": {},
   "source": [
    "<center>\n",
    "\n",
    "# **Mục lục** <a name = \"TOC\"></a>\n",
    "\n",
    "</center>\n",
    "\n",
    "- [1. Các thư viện sử dụng](#section1)\n",
    "- [2. Mô tả tập dữ liệu](#section2)\n",
    "- [3. Các hàm tự định nghĩa](#section3)\n",
    "- [4. Thu thập dữ liệu](#section4)\n",
    "- [5. Tiền xử lý dữ liệu](#section5)\n",
    "- [6. Trực quan hóa dữ liệu](#section6)\n",
    "    - [6.1. Mật độ ca nhiễm covid của các nước trên toàn cầu vào ngày 01/03/2023](#section6_1)\n",
    "    - [6.2. Mối quan hệ giữa tổng số ca nhiễm và tổng số lượt test của các nước vào ngày 01/03/2023](#section6_2)\n",
    "    - [6.3. Mối quan hệ giữa tổng số ca nhiễm và tổng số ca chết của các nước vào ngày 01/03/2023](#section6_3)\n",
    "    - [6.4. Tỉ lệ số ca nhiễm và tỉ lệ dân số giữa các vùng trên thế giới vào ngày 01/03/2023](#section6_4)\n",
    "    - [6.5. Số ca mắc mới, ca chết mới và ca hồi phục mới qua từng ngày của 3 nước Nhật Bản, Đài Loan và Nga từ ngày 01/03/2023 đến ngày 07/03/2023](#section6_5)\n",
    "    - [6.6. Tỉ lệ giữa số ca chết, số ca hồi phục và số ca đang nhiễm bệnh trên tổng số ca của các vùng trên thế giới vào ngày 01/03/2023](#section6_6)\n",
    "- [7. Tài liệu tham khảo](#section7)"
   ]
  },
  {
   "attachments": {},
   "cell_type": "markdown",
   "metadata": {},
   "source": [
    "# **1. Các thư viện sử dụng** <a name = \"section1\"></a>\n",
    "<div style=\"text-align: right\"\n",
    "\n",
    "[Quay về mục lục](#TOC)"
   ]
  },
  {
   "cell_type": "code",
   "execution_count": 320,
   "metadata": {},
   "outputs": [],
   "source": [
    "import numpy as np\n",
    "import pandas as pd\n",
    "import matplotlib.pyplot as plt\n",
    "import seaborn as sns\n",
    "import plotly.express as px\n",
    "\n",
    "from bs4 import BeautifulSoup\n",
    "from selenium import webdriver\n",
    "from selenium.webdriver.common.by import By\n",
    "\n",
    "from datetime import datetime\n"
   ]
  },
  {
   "attachments": {},
   "cell_type": "markdown",
   "metadata": {},
   "source": [
    "---"
   ]
  },
  {
   "attachments": {},
   "cell_type": "markdown",
   "metadata": {},
   "source": [
    "# **2. Mô tả tập dữ liệu** <a name = \"section2\"></a>\n",
    "<div style=\"text-align: right\"\n",
    "\n",
    "[Quay về mục lục](#TOC)"
   ]
  },
  {
   "attachments": {},
   "cell_type": "markdown",
   "metadata": {},
   "source": [
    "- Tập dữ liệu được thu thập từ trang web https://www.worldometers.info/coronavirus/ do Tổ chức Worldometer quản lý. Nhìn chung, tập dữ liệu gồm các trường dữ liệu liên quan đến số liệu của tình hình dịch bệnh covid của các quốc gia và vùng lãnh thổ trên toàn thế giới.\n",
    "- Tập dữ liệu có 231 dòng và 15 cột. Qua việc khai thác, khám phá và trực quan hóa dữ liệu, nhóm sẽ từ từ hé lộ và đưa ra những thông tin rút trích được về tình hình diễn biến của 1 trong những dịch bệnh nguy hiểm nhất lịch sử nhân loại tính đến hiện nay.\n",
    "- Số liệu ở đây chỉ được thu thập kể từ ngày 01/03/2023 cho nên không thể bao quát được toàn bộ diễn biến dịch bệnh kể từ khi bùng phát lần đầu tiên trên toàn cầu, nhưng nhóm sẽ cố gắng đưa ra được 1 cái nhìn tổng quan và khách quan nhất hết sức có thể."
   ]
  },
  {
   "attachments": {},
   "cell_type": "markdown",
   "metadata": {},
   "source": [
    "---"
   ]
  },
  {
   "attachments": {},
   "cell_type": "markdown",
   "metadata": {},
   "source": [
    "# **3. Các hàm tự định nghĩa** <a name = \"section3\"></a>\n",
    "<div style=\"text-align: right\"\n",
    "\n",
    "[Quay về mục lục](#TOC)"
   ]
  },
  {
   "cell_type": "code",
   "execution_count": 321,
   "metadata": {},
   "outputs": [],
   "source": [
    "# Convert string to datetime\n",
    "def convert_to_date(dt):\n",
    "    dt = dt.split()[2:5]\n",
    "    dt = ' '.join(dt).strip(',')\n",
    "    dt = datetime.strptime(dt, '%B %d, %Y').date()\n",
    "    return dt\n",
    "\n",
    "# Process raw data from original rows collected from website\n",
    "def process_data(rows):\n",
    "    rows = [rows[i].split('\\n') for i in range(len(rows))]\n",
    "    rows = [rows[i] for i in range(len(rows)) if len(rows[i]) == 19]\n",
    "    rows = [rows[i][2:17] for i in range(len(rows))]\n",
    "    rows = [[rows[i][j].strip() for j in range(len(rows[i]))] for i in range(len(rows))]\n",
    "    rows = np.array(rows)\n",
    "    return rows\n",
    "\n",
    "# Collect data from website\n",
    "def collect_data():\n",
    "    url = 'https://www.worldometers.info/coronavirus/'\n",
    "    driver = webdriver.Chrome()\n",
    "    driver.get(url)\n",
    "\n",
    "    # get page source\n",
    "    pgsrc = BeautifulSoup(driver.page_source)\n",
    "\n",
    "    # get date\n",
    "    find_date = driver.find_element(By.XPATH, '/html/body/div[3]/div[2]/div[1]/div/div[2]')\n",
    "    dt = find_date.text\n",
    "    dt = convert_to_date(dt)\n",
    "\n",
    "    # get odd and even data rows\n",
    "    find_odd_rows = pgsrc.find_all('tr', class_ = 'odd')\n",
    "    find_even_rows = pgsrc.find_all('tr', class_ = 'even')\n",
    "\n",
    "    odd_rows = [find_odd_rows[i].get_text() for i in range(len(find_odd_rows))]\n",
    "    even_rows = [find_even_rows[i].get_text() for i in range(len(find_even_rows))]\n",
    "\n",
    "    # process raw data rows\n",
    "    odd_rows = process_data(odd_rows)\n",
    "    even_rows = process_data(even_rows)\n",
    "\n",
    "    # only take data of the current day, not the yesterday and the day after yesterday\n",
    "    odd_rows = odd_rows[:len(odd_rows)//3]\n",
    "    even_rows = even_rows[:len(even_rows)//3]\n",
    "\n",
    "    # concatenate odd rows and even rows\n",
    "    covid_data = np.concatenate((odd_rows, even_rows), axis = 0)\n",
    "\n",
    "    driver.quit()\n",
    "\n",
    "    return dt, covid_data\n",
    "\n",
    "# Create dataframe and save into memory\n",
    "def create_df(covid_data, dt):\n",
    "    col_name = ['Country', 'Total_cases', 'New_cases', 'Total_deaths', 'New_Deaths', 'Total_recovered', 'New_recovered', 'Active_cases', 'Serious_critical', 'Cases/1Mpop', 'Deaths/1Mpop', 'Total_tests', 'Tests/1Mpop', 'Population', 'Area']\n",
    "    covid_df = pd.DataFrame(data=covid_data, columns=col_name)\n",
    "    \n",
    "    file_name = 'datasets/' + dt.strftime('%d-%m-%Y') + '-raw.csv'\n",
    "    covid_df.to_csv(file_name, index=False, encoding='utf-8')\n",
    "\n",
    "    return covid_df\n",
    "\n",
    "# Preprocess data, adjust inproper data fields\n",
    "def preprocessing(covid_df, dt):\n",
    "    obj_cols = covid_df.select_dtypes(include=['object']).columns\n",
    "    for obj_col in obj_cols[1:-1]:\n",
    "        covid_df[obj_col] = pd.to_numeric(covid_df[obj_col].str.replace('[^\\d-]', '', regex=True))\n",
    "\n",
    "    covid_df['Area'] = covid_df['Area'].replace('', 'Other')\n",
    "    covid_df = covid_df.sort_values(['Total_cases'], ascending=False).reset_index(drop=True)\n",
    "    file_name = 'datasets/' + dt.strftime('%d-%m-%Y') + '.csv'\n",
    "    covid_df.to_csv(file_name, index=False, encoding='utf-8')\n",
    "\n",
    "    return covid_df\n"
   ]
  },
  {
   "attachments": {},
   "cell_type": "markdown",
   "metadata": {},
   "source": [
    "---"
   ]
  },
  {
   "attachments": {},
   "cell_type": "markdown",
   "metadata": {},
   "source": [
    "# **4. Thu thập dữ liệu** <a name = \"section4\"></a>\n",
    "<div style=\"text-align: right\"\n",
    "\n",
    "[Quay về mục lục](#TOC)"
   ]
  },
  {
   "cell_type": "code",
   "execution_count": 322,
   "metadata": {},
   "outputs": [
    {
     "data": {
      "text/plain": [
       "'Uncomment these code lines to collect data of the current day'"
      ]
     },
     "execution_count": 322,
     "metadata": {},
     "output_type": "execute_result"
    }
   ],
   "source": [
    "'''Uncomment these code lines to collect data of the current day'''\n",
    "\n",
    "# dt, covid_data = collect_data()\n",
    "# covid_df = create_df(covid_data, dt)\n",
    "# covid_df"
   ]
  },
  {
   "attachments": {},
   "cell_type": "markdown",
   "metadata": {},
   "source": [
    "---"
   ]
  },
  {
   "attachments": {},
   "cell_type": "markdown",
   "metadata": {},
   "source": [
    "# **5. Tiền xử lý dữ liệu** <a name = \"section5\"></a>\n",
    "<div style=\"text-align: right\"\n",
    "\n",
    "[Quay về mục lục](#TOC)"
   ]
  },
  {
   "cell_type": "code",
   "execution_count": 323,
   "metadata": {},
   "outputs": [
    {
     "data": {
      "text/plain": [
       "'Uncomment these code lines and those lines of the above cell to collect and preprocess data of the current day'"
      ]
     },
     "execution_count": 323,
     "metadata": {},
     "output_type": "execute_result"
    }
   ],
   "source": [
    "'''Uncomment these code lines and those lines of the above cell to collect and preprocess data of the current day'''\n",
    "\n",
    "# covid_df = preprocessing(covid_df, dt)\n",
    "# covid_df"
   ]
  },
  {
   "attachments": {},
   "cell_type": "markdown",
   "metadata": {},
   "source": [
    "---"
   ]
  },
  {
   "attachments": {},
   "cell_type": "markdown",
   "metadata": {},
   "source": [
    "# **6. Trực quan hóa dữ liệu** <a name = \"section6\"></a>\n",
    "<div style=\"text-align: right\"\n",
    "\n",
    "[Quay về mục lục](#TOC)"
   ]
  },
  {
   "attachments": {},
   "cell_type": "markdown",
   "metadata": {},
   "source": [
    "### **6.1. Mật độ ca nhiễm covid của các nước trên toàn cầu vào ngày 01/03/2023** <a name = \"section6_1\"></a>\n",
    "<div style=\"text-align: right\"\n",
    "\n",
    "[Quay về mục lục](#TOC)"
   ]
  },
  {
   "cell_type": "code",
   "execution_count": 324,
   "metadata": {},
   "outputs": [],
   "source": [
    "fc = '#F7F8F3' # figure color\n",
    "bg = '#F3ECD8' # background color\n",
    "c1 = '#F7444E' # color 1\n",
    "c2 = '#78BCC4' # color 2\n",
    "ec = '#002C3E' # edge color\n",
    "\n",
    "cv_df = pd.read_csv('datasets/01-03-2023.csv')"
   ]
  },
  {
   "cell_type": "code",
   "execution_count": 325,
   "metadata": {},
   "outputs": [
    {
     "data": {
      "application/vnd.plotly.v1+json": {
       "config": {
        "plotlyServerURL": "https://plot.ly"
       },
       "data": [
        {
         "coloraxis": "coloraxis",
         "geo": "geo",
         "hovertemplate": "Country=%{location}<br>Total Cases=%{z}<extra></extra>",
         "locationmode": "country names",
         "locations": [
          "USA",
          "India",
          "France",
          "Germany",
          "Brazil",
          "Japan",
          "S. Korea",
          "Italy",
          "UK",
          "Russia",
          "Turkey",
          "Spain",
          "Vietnam",
          "Australia",
          "Taiwan",
          "Argentina",
          "Netherlands",
          "Iran",
          "Mexico",
          "Indonesia",
          "Poland",
          "Colombia",
          "Austria",
          "Greece",
          "Portugal",
          "Ukraine",
          "Chile",
          "Malaysia",
          "Israel",
          "DPRK",
          "Thailand",
          "Belgium",
          "Czechia",
          "Canada",
          "Peru",
          "Switzerland",
          "Philippines",
          "South Africa",
          "Romania",
          "Denmark",
          "Hong Kong",
          "Sweden",
          "Serbia",
          "Iraq",
          "Singapore",
          "New Zealand",
          "Hungary",
          "Bangladesh",
          "Slovakia",
          "Georgia",
          "Jordan",
          "Ireland",
          "Pakistan",
          "Norway",
          "Finland",
          "Kazakhstan",
          "Slovenia",
          "Lithuania",
          "Bulgaria",
          "Morocco",
          "Croatia",
          "Guatemala",
          "Lebanon",
          "Costa Rica",
          "Bolivia",
          "Tunisia",
          "Cuba",
          "Ecuador",
          "UAE",
          "Uruguay",
          "Panama",
          "Mongolia",
          "Nepal",
          "Belarus",
          "Latvia",
          "Saudi Arabia",
          "Azerbaijan",
          "Paraguay",
          "Bahrain",
          "Sri Lanka",
          "Kuwait",
          "Dominican Republic",
          "Cyprus",
          "Myanmar",
          "Palestine",
          "Estonia",
          "Moldova",
          "Venezuela",
          "Egypt",
          "Libya",
          "China",
          "Ethiopia",
          "Qatar",
          "Réunion",
          "Honduras",
          "Armenia",
          "Bosnia and Herzegovina",
          "Oman",
          "North Macedonia",
          "Zambia",
          "Kenya",
          "Albania",
          "Botswana",
          "Luxembourg",
          "Montenegro",
          "Brunei",
          "Algeria",
          "Nigeria",
          "Zimbabwe",
          "Uzbekistan",
          "Mozambique",
          "Martinique",
          "Laos",
          "Afghanistan",
          "Iceland",
          "Kyrgyzstan",
          "Guadeloupe",
          "El Salvador",
          "Trinidad and Tobago",
          "Maldives",
          "Ghana",
          "Namibia",
          "Uganda",
          "Jamaica",
          "Cambodia",
          "Rwanda",
          "Cameroon",
          "Malta",
          "Barbados",
          "Angola",
          "Channel Islands",
          "French Guiana",
          "DRC",
          "Senegal",
          "Malawi",
          "Ivory Coast",
          "Suriname",
          "New Caledonia",
          "French Polynesia",
          "Eswatini",
          "Guyana",
          "Belize",
          "Fiji",
          "Madagascar",
          "Sudan",
          "Mauritania",
          "Cabo Verde",
          "Bhutan",
          "Syria",
          "Burundi",
          "Seychelles",
          "Gabon",
          "Andorra",
          "Papua New Guinea",
          "Curaçao",
          "Aruba",
          "Tanzania",
          "Mayotte",
          "Mauritius",
          "Togo",
          "Guinea",
          "Isle of Man",
          "Bahamas",
          "Lesotho",
          "Faeroe Islands",
          "Haiti",
          "Mali",
          "Cayman Islands",
          "Saint Lucia",
          "Benin",
          "Somalia",
          "Congo",
          "Solomon Islands",
          "Micronesia",
          "San Marino",
          "Timor-Leste",
          "Burkina Faso",
          "Liechtenstein",
          "Gibraltar",
          "Grenada",
          "Bermuda",
          "Nicaragua",
          "South Sudan",
          "Tajikistan",
          "Equatorial Guinea",
          "Tonga",
          "Samoa",
          "Monaco",
          "Dominica",
          "Djibouti",
          "Marshall Islands",
          "CAR",
          "Gambia",
          "Saint Martin",
          "Vanuatu",
          "Greenland",
          "Yemen",
          "Caribbean Netherlands",
          "Sint Maarten",
          "Eritrea",
          "Niger",
          "St. Vincent Grenadines",
          "Antigua and Barbuda",
          "Comoros",
          "Guinea-Bissau",
          "Liberia",
          "Sierra Leone",
          "Chad",
          "British Virgin Islands",
          "Cook Islands",
          "Saint Kitts and Nevis",
          "Turks and Caicos",
          "Sao Tome and Principe",
          "Palau",
          "St. Barth",
          "Nauru",
          "Kiribati",
          "Anguilla",
          "Macao",
          "Saint Pierre Miquelon",
          "Wallis and Futuna",
          "Tuvalu",
          "Saint Helena",
          "Falkland Islands",
          "Montserrat",
          "Niue",
          "Diamond Princess",
          "Vatican City",
          "Western Sahara",
          "MS Zaandam",
          "Tokelau"
         ],
         "name": "",
         "type": "choropleth",
         "z": [
          105285347,
          44686611,
          39622231,
          38168908,
          37052936,
          33219038,
          30526012,
          25576852,
          24341615,
          22285908,
          17042722,
          13763336,
          11526926,
          11366361,
          10055439,
          10044125,
          8596296,
          7568903,
          7451429,
          6736298,
          6422467,
          6359464,
          5919616,
          5849949,
          5566708,
          5382095,
          5166328,
          5042791,
          4799283,
          4772813,
          4728035,
          4717655,
          4611001,
          4591149,
          4486034,
          4389655,
          4076418,
          4063573,
          3340342,
          3175264,
          2883453,
          2697827,
          2492563,
          2465545,
          2222006,
          2216852,
          2195926,
          2037829,
          1863022,
          1825598,
          1746997,
          1702523,
          1576999,
          1479032,
          1462169,
          1407823,
          1328673,
          1305163,
          1296853,
          1272454,
          1268992,
          1236406,
          1231840,
          1199055,
          1193009,
          1150962,
          1112598,
          1056578,
          1052029,
          1034303,
          1031273,
          1007896,
          1001148,
          994037,
          976031,
          829478,
          828588,
          808327,
          707480,
          672030,
          663456,
          660533,
          649093,
          633918,
          621008,
          615119,
          607450,
          551981,
          515698,
          507174,
          503302,
          499986,
          494271,
          486588,
          472116,
          446819,
          401575,
          399449,
          346852,
          343012,
          342912,
          334391,
          329727,
          297757,
          288280,
          277992,
          271441,
          266593,
          263921,
          250932,
          233098,
          229807,
          218015,
          209340,
          209093,
          206633,
          201852,
          201785,
          189296,
          185732,
          171172,
          171156,
          170504,
          154065,
          138717,
          133180,
          124392,
          117477,
          106645,
          105255,
          101382,
          98041,
          95646,
          88917,
          88681,
          88197,
          82227,
          79881,
          77957,
          74199,
          73069,
          70757,
          68889,
          67865,
          63787,
          63667,
          63244,
          62620,
          57467,
          53609,
          50665,
          48981,
          47866,
          46792,
          45986,
          44026,
          42823,
          42004,
          41717,
          39377,
          38267,
          38008,
          37491,
          34790,
          34658,
          34143,
          33018,
          31472,
          29882,
          27990,
          27324,
          25375,
          24575,
          23671,
          23536,
          23418,
          22056,
          21421,
          20423,
          19680,
          18799,
          18491,
          18368,
          17786,
          17229,
          16801,
          16607,
          16106,
          15760,
          15690,
          15598,
          15368,
          12586,
          12257,
          12014,
          11971,
          11945,
          11672,
          11016,
          10189,
          9931,
          9589,
          9106,
          8998,
          8953,
          8077,
          7760,
          7678,
          7305,
          7025,
          6596,
          6551,
          6281,
          5988,
          5439,
          5247,
          5013,
          3904,
          3514,
          3452,
          3427,
          2805,
          2166,
          1930,
          1403,
          788,
          712,
          29,
          10,
          9,
          5
         ]
        }
       ],
       "layout": {
        "coloraxis": {
         "cmax": 105285347,
         "cmin": 0,
         "colorbar": {
          "title": {
           "text": "Total Cases"
          }
         },
         "colorscale": [
          [
           0,
           "rgb(253, 224, 197)"
          ],
          [
           0.16666666666666666,
           "rgb(250, 203, 166)"
          ],
          [
           0.3333333333333333,
           "rgb(248, 181, 139)"
          ],
          [
           0.5,
           "rgb(245, 158, 114)"
          ],
          [
           0.6666666666666666,
           "rgb(242, 133, 93)"
          ],
          [
           0.8333333333333334,
           "rgb(239, 106, 76)"
          ],
          [
           1,
           "rgb(235, 74, 64)"
          ]
         ]
        },
        "geo": {
         "center": {},
         "domain": {
          "x": [
           0,
           1
          ],
          "y": [
           0,
           1
          ]
         }
        },
        "legend": {
         "tracegroupgap": 0
        },
        "margin": {
         "b": 50,
         "l": 50,
         "r": 50,
         "t": 50
        },
        "template": {
         "data": {
          "bar": [
           {
            "error_x": {
             "color": "#2a3f5f"
            },
            "error_y": {
             "color": "#2a3f5f"
            },
            "marker": {
             "line": {
              "color": "#E5ECF6",
              "width": 0.5
             },
             "pattern": {
              "fillmode": "overlay",
              "size": 10,
              "solidity": 0.2
             }
            },
            "type": "bar"
           }
          ],
          "barpolar": [
           {
            "marker": {
             "line": {
              "color": "#E5ECF6",
              "width": 0.5
             },
             "pattern": {
              "fillmode": "overlay",
              "size": 10,
              "solidity": 0.2
             }
            },
            "type": "barpolar"
           }
          ],
          "carpet": [
           {
            "aaxis": {
             "endlinecolor": "#2a3f5f",
             "gridcolor": "white",
             "linecolor": "white",
             "minorgridcolor": "white",
             "startlinecolor": "#2a3f5f"
            },
            "baxis": {
             "endlinecolor": "#2a3f5f",
             "gridcolor": "white",
             "linecolor": "white",
             "minorgridcolor": "white",
             "startlinecolor": "#2a3f5f"
            },
            "type": "carpet"
           }
          ],
          "choropleth": [
           {
            "colorbar": {
             "outlinewidth": 0,
             "ticks": ""
            },
            "type": "choropleth"
           }
          ],
          "contour": [
           {
            "colorbar": {
             "outlinewidth": 0,
             "ticks": ""
            },
            "colorscale": [
             [
              0,
              "#0d0887"
             ],
             [
              0.1111111111111111,
              "#46039f"
             ],
             [
              0.2222222222222222,
              "#7201a8"
             ],
             [
              0.3333333333333333,
              "#9c179e"
             ],
             [
              0.4444444444444444,
              "#bd3786"
             ],
             [
              0.5555555555555556,
              "#d8576b"
             ],
             [
              0.6666666666666666,
              "#ed7953"
             ],
             [
              0.7777777777777778,
              "#fb9f3a"
             ],
             [
              0.8888888888888888,
              "#fdca26"
             ],
             [
              1,
              "#f0f921"
             ]
            ],
            "type": "contour"
           }
          ],
          "contourcarpet": [
           {
            "colorbar": {
             "outlinewidth": 0,
             "ticks": ""
            },
            "type": "contourcarpet"
           }
          ],
          "heatmap": [
           {
            "colorbar": {
             "outlinewidth": 0,
             "ticks": ""
            },
            "colorscale": [
             [
              0,
              "#0d0887"
             ],
             [
              0.1111111111111111,
              "#46039f"
             ],
             [
              0.2222222222222222,
              "#7201a8"
             ],
             [
              0.3333333333333333,
              "#9c179e"
             ],
             [
              0.4444444444444444,
              "#bd3786"
             ],
             [
              0.5555555555555556,
              "#d8576b"
             ],
             [
              0.6666666666666666,
              "#ed7953"
             ],
             [
              0.7777777777777778,
              "#fb9f3a"
             ],
             [
              0.8888888888888888,
              "#fdca26"
             ],
             [
              1,
              "#f0f921"
             ]
            ],
            "type": "heatmap"
           }
          ],
          "heatmapgl": [
           {
            "colorbar": {
             "outlinewidth": 0,
             "ticks": ""
            },
            "colorscale": [
             [
              0,
              "#0d0887"
             ],
             [
              0.1111111111111111,
              "#46039f"
             ],
             [
              0.2222222222222222,
              "#7201a8"
             ],
             [
              0.3333333333333333,
              "#9c179e"
             ],
             [
              0.4444444444444444,
              "#bd3786"
             ],
             [
              0.5555555555555556,
              "#d8576b"
             ],
             [
              0.6666666666666666,
              "#ed7953"
             ],
             [
              0.7777777777777778,
              "#fb9f3a"
             ],
             [
              0.8888888888888888,
              "#fdca26"
             ],
             [
              1,
              "#f0f921"
             ]
            ],
            "type": "heatmapgl"
           }
          ],
          "histogram": [
           {
            "marker": {
             "pattern": {
              "fillmode": "overlay",
              "size": 10,
              "solidity": 0.2
             }
            },
            "type": "histogram"
           }
          ],
          "histogram2d": [
           {
            "colorbar": {
             "outlinewidth": 0,
             "ticks": ""
            },
            "colorscale": [
             [
              0,
              "#0d0887"
             ],
             [
              0.1111111111111111,
              "#46039f"
             ],
             [
              0.2222222222222222,
              "#7201a8"
             ],
             [
              0.3333333333333333,
              "#9c179e"
             ],
             [
              0.4444444444444444,
              "#bd3786"
             ],
             [
              0.5555555555555556,
              "#d8576b"
             ],
             [
              0.6666666666666666,
              "#ed7953"
             ],
             [
              0.7777777777777778,
              "#fb9f3a"
             ],
             [
              0.8888888888888888,
              "#fdca26"
             ],
             [
              1,
              "#f0f921"
             ]
            ],
            "type": "histogram2d"
           }
          ],
          "histogram2dcontour": [
           {
            "colorbar": {
             "outlinewidth": 0,
             "ticks": ""
            },
            "colorscale": [
             [
              0,
              "#0d0887"
             ],
             [
              0.1111111111111111,
              "#46039f"
             ],
             [
              0.2222222222222222,
              "#7201a8"
             ],
             [
              0.3333333333333333,
              "#9c179e"
             ],
             [
              0.4444444444444444,
              "#bd3786"
             ],
             [
              0.5555555555555556,
              "#d8576b"
             ],
             [
              0.6666666666666666,
              "#ed7953"
             ],
             [
              0.7777777777777778,
              "#fb9f3a"
             ],
             [
              0.8888888888888888,
              "#fdca26"
             ],
             [
              1,
              "#f0f921"
             ]
            ],
            "type": "histogram2dcontour"
           }
          ],
          "mesh3d": [
           {
            "colorbar": {
             "outlinewidth": 0,
             "ticks": ""
            },
            "type": "mesh3d"
           }
          ],
          "parcoords": [
           {
            "line": {
             "colorbar": {
              "outlinewidth": 0,
              "ticks": ""
             }
            },
            "type": "parcoords"
           }
          ],
          "pie": [
           {
            "automargin": true,
            "type": "pie"
           }
          ],
          "scatter": [
           {
            "fillpattern": {
             "fillmode": "overlay",
             "size": 10,
             "solidity": 0.2
            },
            "type": "scatter"
           }
          ],
          "scatter3d": [
           {
            "line": {
             "colorbar": {
              "outlinewidth": 0,
              "ticks": ""
             }
            },
            "marker": {
             "colorbar": {
              "outlinewidth": 0,
              "ticks": ""
             }
            },
            "type": "scatter3d"
           }
          ],
          "scattercarpet": [
           {
            "marker": {
             "colorbar": {
              "outlinewidth": 0,
              "ticks": ""
             }
            },
            "type": "scattercarpet"
           }
          ],
          "scattergeo": [
           {
            "marker": {
             "colorbar": {
              "outlinewidth": 0,
              "ticks": ""
             }
            },
            "type": "scattergeo"
           }
          ],
          "scattergl": [
           {
            "marker": {
             "colorbar": {
              "outlinewidth": 0,
              "ticks": ""
             }
            },
            "type": "scattergl"
           }
          ],
          "scattermapbox": [
           {
            "marker": {
             "colorbar": {
              "outlinewidth": 0,
              "ticks": ""
             }
            },
            "type": "scattermapbox"
           }
          ],
          "scatterpolar": [
           {
            "marker": {
             "colorbar": {
              "outlinewidth": 0,
              "ticks": ""
             }
            },
            "type": "scatterpolar"
           }
          ],
          "scatterpolargl": [
           {
            "marker": {
             "colorbar": {
              "outlinewidth": 0,
              "ticks": ""
             }
            },
            "type": "scatterpolargl"
           }
          ],
          "scatterternary": [
           {
            "marker": {
             "colorbar": {
              "outlinewidth": 0,
              "ticks": ""
             }
            },
            "type": "scatterternary"
           }
          ],
          "surface": [
           {
            "colorbar": {
             "outlinewidth": 0,
             "ticks": ""
            },
            "colorscale": [
             [
              0,
              "#0d0887"
             ],
             [
              0.1111111111111111,
              "#46039f"
             ],
             [
              0.2222222222222222,
              "#7201a8"
             ],
             [
              0.3333333333333333,
              "#9c179e"
             ],
             [
              0.4444444444444444,
              "#bd3786"
             ],
             [
              0.5555555555555556,
              "#d8576b"
             ],
             [
              0.6666666666666666,
              "#ed7953"
             ],
             [
              0.7777777777777778,
              "#fb9f3a"
             ],
             [
              0.8888888888888888,
              "#fdca26"
             ],
             [
              1,
              "#f0f921"
             ]
            ],
            "type": "surface"
           }
          ],
          "table": [
           {
            "cells": {
             "fill": {
              "color": "#EBF0F8"
             },
             "line": {
              "color": "white"
             }
            },
            "header": {
             "fill": {
              "color": "#C8D4E3"
             },
             "line": {
              "color": "white"
             }
            },
            "type": "table"
           }
          ]
         },
         "layout": {
          "annotationdefaults": {
           "arrowcolor": "#2a3f5f",
           "arrowhead": 0,
           "arrowwidth": 1
          },
          "autotypenumbers": "strict",
          "coloraxis": {
           "colorbar": {
            "outlinewidth": 0,
            "ticks": ""
           }
          },
          "colorscale": {
           "diverging": [
            [
             0,
             "#8e0152"
            ],
            [
             0.1,
             "#c51b7d"
            ],
            [
             0.2,
             "#de77ae"
            ],
            [
             0.3,
             "#f1b6da"
            ],
            [
             0.4,
             "#fde0ef"
            ],
            [
             0.5,
             "#f7f7f7"
            ],
            [
             0.6,
             "#e6f5d0"
            ],
            [
             0.7,
             "#b8e186"
            ],
            [
             0.8,
             "#7fbc41"
            ],
            [
             0.9,
             "#4d9221"
            ],
            [
             1,
             "#276419"
            ]
           ],
           "sequential": [
            [
             0,
             "#0d0887"
            ],
            [
             0.1111111111111111,
             "#46039f"
            ],
            [
             0.2222222222222222,
             "#7201a8"
            ],
            [
             0.3333333333333333,
             "#9c179e"
            ],
            [
             0.4444444444444444,
             "#bd3786"
            ],
            [
             0.5555555555555556,
             "#d8576b"
            ],
            [
             0.6666666666666666,
             "#ed7953"
            ],
            [
             0.7777777777777778,
             "#fb9f3a"
            ],
            [
             0.8888888888888888,
             "#fdca26"
            ],
            [
             1,
             "#f0f921"
            ]
           ],
           "sequentialminus": [
            [
             0,
             "#0d0887"
            ],
            [
             0.1111111111111111,
             "#46039f"
            ],
            [
             0.2222222222222222,
             "#7201a8"
            ],
            [
             0.3333333333333333,
             "#9c179e"
            ],
            [
             0.4444444444444444,
             "#bd3786"
            ],
            [
             0.5555555555555556,
             "#d8576b"
            ],
            [
             0.6666666666666666,
             "#ed7953"
            ],
            [
             0.7777777777777778,
             "#fb9f3a"
            ],
            [
             0.8888888888888888,
             "#fdca26"
            ],
            [
             1,
             "#f0f921"
            ]
           ]
          },
          "colorway": [
           "#636efa",
           "#EF553B",
           "#00cc96",
           "#ab63fa",
           "#FFA15A",
           "#19d3f3",
           "#FF6692",
           "#B6E880",
           "#FF97FF",
           "#FECB52"
          ],
          "font": {
           "color": "#2a3f5f"
          },
          "geo": {
           "bgcolor": "white",
           "lakecolor": "white",
           "landcolor": "#E5ECF6",
           "showlakes": true,
           "showland": true,
           "subunitcolor": "white"
          },
          "hoverlabel": {
           "align": "left"
          },
          "hovermode": "closest",
          "mapbox": {
           "style": "light"
          },
          "paper_bgcolor": "white",
          "plot_bgcolor": "#E5ECF6",
          "polar": {
           "angularaxis": {
            "gridcolor": "white",
            "linecolor": "white",
            "ticks": ""
           },
           "bgcolor": "#E5ECF6",
           "radialaxis": {
            "gridcolor": "white",
            "linecolor": "white",
            "ticks": ""
           }
          },
          "scene": {
           "xaxis": {
            "backgroundcolor": "#E5ECF6",
            "gridcolor": "white",
            "gridwidth": 2,
            "linecolor": "white",
            "showbackground": true,
            "ticks": "",
            "zerolinecolor": "white"
           },
           "yaxis": {
            "backgroundcolor": "#E5ECF6",
            "gridcolor": "white",
            "gridwidth": 2,
            "linecolor": "white",
            "showbackground": true,
            "ticks": "",
            "zerolinecolor": "white"
           },
           "zaxis": {
            "backgroundcolor": "#E5ECF6",
            "gridcolor": "white",
            "gridwidth": 2,
            "linecolor": "white",
            "showbackground": true,
            "ticks": "",
            "zerolinecolor": "white"
           }
          },
          "shapedefaults": {
           "line": {
            "color": "#2a3f5f"
           }
          },
          "ternary": {
           "aaxis": {
            "gridcolor": "white",
            "linecolor": "white",
            "ticks": ""
           },
           "baxis": {
            "gridcolor": "white",
            "linecolor": "white",
            "ticks": ""
           },
           "bgcolor": "#E5ECF6",
           "caxis": {
            "gridcolor": "white",
            "linecolor": "white",
            "ticks": ""
           }
          },
          "title": {
           "x": 0.05
          },
          "xaxis": {
           "automargin": true,
           "gridcolor": "white",
           "linecolor": "white",
           "ticks": "",
           "title": {
            "standoff": 15
           },
           "zerolinecolor": "white",
           "zerolinewidth": 2
          },
          "yaxis": {
           "automargin": true,
           "gridcolor": "white",
           "linecolor": "white",
           "ticks": "",
           "title": {
            "standoff": 15
           },
           "zerolinecolor": "white",
           "zerolinewidth": 2
          }
         }
        },
        "title": {
         "text": "Choropleth Map of Total Cases by Country"
        }
       }
      }
     },
     "metadata": {},
     "output_type": "display_data"
    }
   ],
   "source": [
    "fig = px.choropleth(cv_df, \n",
    "                    locations='Country', \n",
    "                    locationmode='country names',\n",
    "                    color='Total_cases',\n",
    "                    color_continuous_scale='peach',\n",
    "                    range_color=(0, cv_df['Total_cases'].max()),\n",
    "                    labels={'Total_cases': 'Total Cases'},\n",
    "                    title='Choropleth Map of Total Cases by Country'\n",
    "                   )\n",
    "fig.update_layout(margin=dict(l=50, r=50, t=50, b=50))\n",
    "fig.show()"
   ]
  },
  {
   "attachments": {},
   "cell_type": "markdown",
   "metadata": {},
   "source": [
    "- Nhận xét:\n",
    "\n",
    "    - Theo thống kê của https://www.worldometers.info/coronavirus ngày 1-3-2023:\n",
    "        + Khi nhìn vào biểu đồ nước có nhiều ca nhiễm nhất là USA với hơn 100 triệu ca.\n",
    "        + Ở Châu Mỹ, trừ USA, nước Brazil, Argentina và Mexico là các nước có ca nhiễm nhiều tiếp theo thứ tự giảm dần.\n",
    "        + Ở Châu Phi đa số các nước đều nhạt màu cho thấy ca lây nhiễm đều dưới ngưỡng 1 triệu ca trừ Morocco và Nam Phi lần lượt là khoảng 1,2 triệu và 4 triệu ca.\n",
    "        + Các nước Châu Âu như Anh, Pháp, Đức, Ý, Tây Ban Nha nằm cạnh nhau dẫn đến sự lây lan và các nước đều có ca nhiễm từ 10-20 triệu ca.\n",
    "        + Ở phía Đông Châu Á, 2 nước có ca nhiễm nhiều nhất là Nhật Bản và Hàn Quốc, tuy diện tích nước nhỏ nhưng dân số đông dẫn đến tình trạng ca nhiễm rất cao (khoảng 30 triệu)\n",
    "        + Ở Đông Nam Á ta dễ dàng thấy được Việt Nam là nước có nhiều ca nhiễm nhát lên tới 11 triệu ca.\n",
    "        + Vùng màu vàng nhạt rộng lớn là Nga với 22 triệu ca, con số này chỉ bằng phân nửa nước Ấn Độ.\n"
   ]
  },
  {
   "attachments": {},
   "cell_type": "markdown",
   "metadata": {},
   "source": [
    "---"
   ]
  },
  {
   "attachments": {},
   "cell_type": "markdown",
   "metadata": {},
   "source": [
    "### **6.2. Mối quan hệ giữa tổng số ca nhiễm và tổng số lượt test của các nước vào ngày 01/03/2023** <a name = \"section6_2\"></a>\n",
    "<div style=\"text-align: right\"\n",
    "\n",
    "[Quay về mục lục](#TOC)"
   ]
  },
  {
   "cell_type": "code",
   "execution_count": 326,
   "metadata": {},
   "outputs": [
    {
     "name": "stdout",
     "output_type": "stream",
     "text": [
      "Q1 = 34790.0 \n",
      "Q2 = 1462169.0\n",
      "\n",
      "Lower bound = -2106278.5 \n",
      "Upper bound = 3603237.5\n"
     ]
    },
    {
     "data": {
      "text/html": [
       "<div>\n",
       "<style scoped>\n",
       "    .dataframe tbody tr th:only-of-type {\n",
       "        vertical-align: middle;\n",
       "    }\n",
       "\n",
       "    .dataframe tbody tr th {\n",
       "        vertical-align: top;\n",
       "    }\n",
       "\n",
       "    .dataframe thead th {\n",
       "        text-align: right;\n",
       "    }\n",
       "</style>\n",
       "<table border=\"1\" class=\"dataframe\">\n",
       "  <thead>\n",
       "    <tr style=\"text-align: right;\">\n",
       "      <th></th>\n",
       "      <th>Country</th>\n",
       "      <th>Total_cases</th>\n",
       "      <th>Total_tests</th>\n",
       "    </tr>\n",
       "  </thead>\n",
       "  <tbody>\n",
       "    <tr>\n",
       "      <th>0</th>\n",
       "      <td>Romania</td>\n",
       "      <td>3340342</td>\n",
       "      <td>26676248.0</td>\n",
       "    </tr>\n",
       "    <tr>\n",
       "      <th>1</th>\n",
       "      <td>Denmark</td>\n",
       "      <td>3175264</td>\n",
       "      <td>129197382.0</td>\n",
       "    </tr>\n",
       "    <tr>\n",
       "      <th>2</th>\n",
       "      <td>Hong Kong</td>\n",
       "      <td>2883453</td>\n",
       "      <td>76127725.0</td>\n",
       "    </tr>\n",
       "    <tr>\n",
       "      <th>3</th>\n",
       "      <td>Sweden</td>\n",
       "      <td>2697827</td>\n",
       "      <td>19469139.0</td>\n",
       "    </tr>\n",
       "    <tr>\n",
       "      <th>4</th>\n",
       "      <td>Serbia</td>\n",
       "      <td>2492563</td>\n",
       "      <td>12396861.0</td>\n",
       "    </tr>\n",
       "    <tr>\n",
       "      <th>...</th>\n",
       "      <td>...</td>\n",
       "      <td>...</td>\n",
       "      <td>...</td>\n",
       "    </tr>\n",
       "    <tr>\n",
       "      <th>171</th>\n",
       "      <td>Macao</td>\n",
       "      <td>3514</td>\n",
       "      <td>7850.0</td>\n",
       "    </tr>\n",
       "    <tr>\n",
       "      <th>172</th>\n",
       "      <td>Saint Pierre Miquelon</td>\n",
       "      <td>3452</td>\n",
       "      <td>25400.0</td>\n",
       "    </tr>\n",
       "    <tr>\n",
       "      <th>173</th>\n",
       "      <td>Wallis and Futuna</td>\n",
       "      <td>3427</td>\n",
       "      <td>20508.0</td>\n",
       "    </tr>\n",
       "    <tr>\n",
       "      <th>174</th>\n",
       "      <td>Falkland Islands</td>\n",
       "      <td>1930</td>\n",
       "      <td>8632.0</td>\n",
       "    </tr>\n",
       "    <tr>\n",
       "      <th>175</th>\n",
       "      <td>Montserrat</td>\n",
       "      <td>1403</td>\n",
       "      <td>17762.0</td>\n",
       "    </tr>\n",
       "  </tbody>\n",
       "</table>\n",
       "<p>176 rows × 3 columns</p>\n",
       "</div>"
      ],
      "text/plain": [
       "                   Country  Total_cases  Total_tests\n",
       "0                  Romania      3340342   26676248.0\n",
       "1                  Denmark      3175264  129197382.0\n",
       "2                Hong Kong      2883453   76127725.0\n",
       "3                   Sweden      2697827   19469139.0\n",
       "4                   Serbia      2492563   12396861.0\n",
       "..                     ...          ...          ...\n",
       "171                  Macao         3514       7850.0\n",
       "172  Saint Pierre Miquelon         3452      25400.0\n",
       "173      Wallis and Futuna         3427      20508.0\n",
       "174       Falkland Islands         1930       8632.0\n",
       "175             Montserrat         1403      17762.0\n",
       "\n",
       "[176 rows x 3 columns]"
      ]
     },
     "execution_count": 326,
     "metadata": {},
     "output_type": "execute_result"
    }
   ],
   "source": [
    "cases_tests = cv_df[['Country', 'Total_cases', 'Total_tests']].dropna(subset=['Total_tests'])\n",
    "cases = cases_tests['Total_cases']\n",
    "\n",
    "# Remove outlier with IQR\n",
    "q1, q3 = np.percentile(cases, [25, 75])\n",
    "print('Q1 =', q1, '\\nQ2 =', q3)\n",
    "IQR = q3 - q1\n",
    "upper_bound = q3 + 1.5 * IQR\n",
    "lower_bound = q1 - 1.5 * IQR\n",
    "print('\\nLower bound =', lower_bound, '\\nUpper bound =', upper_bound)\n",
    "\n",
    "cases_tests = cases_tests[(cases_tests['Total_cases'] > lower_bound) & (cases_tests['Total_cases'] < upper_bound)].reset_index().iloc[:, 1:]\n",
    "cases = cases_tests['Total_cases']\n",
    "tests = cases_tests['Total_tests']\n",
    "cases_tests"
   ]
  },
  {
   "cell_type": "code",
   "execution_count": 327,
   "metadata": {},
   "outputs": [
    {
     "data": {
      "image/png": "[encoded data removed]",
      "text/plain": [
       "<Figure size 720x720 with 3 Axes>"
      ]
     },
     "metadata": {},
     "output_type": "display_data"
    }
   ],
   "source": [
    "fig = plt.figure(figsize=(10, 10))\n",
    "fig.set_facecolor(fc)\n",
    "fig.suptitle('Correlation between number of cases and number of tests of certain countries on 01/03/2023')\n",
    "\n",
    "gs = fig.add_gridspec(2, 2,  width_ratios=(4, 1), height_ratios=(1, 4),\n",
    "                      left=0.1, right=0.9, bottom=0.1, top=0.9,\n",
    "                      wspace=0.05, hspace=0.05)\n",
    "\n",
    "ax = fig.add_subplot(gs[1, 0])\n",
    "ax_histx = fig.add_subplot(gs[0, 0], sharex=ax)\n",
    "ax_histy = fig.add_subplot(gs[1, 1], sharey=ax)\n",
    "\n",
    "ax_histx.tick_params(axis=\"x\", labelbottom=False)\n",
    "ax_histy.tick_params(axis=\"y\", labelleft=False)\n",
    "\n",
    "ax.set_facecolor(bg)\n",
    "ax.scatter(cases, tests, color=c1, edgecolors=ec, s=50, )\n",
    "ax.set_xlabel('Number of cases')\n",
    "ax.set_ylabel('Number of tests')\n",
    "ax.set_xlim()\n",
    "\n",
    "ax_histx.set_facecolor(bg)\n",
    "ax_histy.set_facecolor(bg)\n",
    "ax_histx.hist(cases, bins=70, color=c2, edgecolor=ec)\n",
    "ax_histy.hist(tests, bins=70, orientation='horizontal', color=c2, edgecolor=ec)\n",
    "ax_histx.set_ylabel('Number of countries')\n",
    "ax_histy.set_xlabel('Number of countries');"
   ]
  },
  {
   "attachments": {},
   "cell_type": "markdown",
   "metadata": {},
   "source": [
    "- Nhận xét:\n",
    "\n",
    "\t- Từ biểu đồ ta có thể thấy được vào ngày 01/03/2023, đa số các nước có số ca nhiễm nằm trong phạm vi khoảng từ 0 đến 1.5 triệu ca, trong khi số lượt test là từ 0 đến 200 triệu.\n",
    "\t- Ta có thể thấy được rằng phần lớn nước có số lượt tests càng cao thì số ca nhiễm cũng càng tăng.\n",
    "\t- Tuy nhiên có nhiều nước tuy thực hiện rất nhiều tests nhưng số ca nhiễm nằm ở mức thấp và tương đối.\n",
    "\t\n",
    "\t\t→ Điều đó cho thấy không phải cứ thực hiện nhiều tests thì số ca nhiễm sẽ cao. Việc này đồng nghĩa rằng 2 trường dữ liệu Total_cases và Total_tests không có mối quan hệ nhân quả.\n"
   ]
  },
  {
   "attachments": {},
   "cell_type": "markdown",
   "metadata": {},
   "source": [
    "---"
   ]
  },
  {
   "attachments": {},
   "cell_type": "markdown",
   "metadata": {},
   "source": [
    "### **6.3. Mối quan hệ giữa tổng số ca nhiễm và tổng số ca chết của các nước vào ngày 01/03/2023** <a name = \"section6_3\"></a>\n",
    "<div style=\"text-align: right\"\n",
    "\n",
    "[Quay về mục lục](#TOC)"
   ]
  },
  {
   "cell_type": "code",
   "execution_count": 328,
   "metadata": {},
   "outputs": [
    {
     "data": {
      "image/png": "[encoded data removed]",
      "text/plain": [
       "<Figure size 1440x720 with 1 Axes>"
      ]
     },
     "metadata": {},
     "output_type": "display_data"
    }
   ],
   "source": [
    "fig = plt.figure(figsize=(20,10))\n",
    "fig.set_facecolor(fc)\n",
    "\n",
    "plt.title('Correlation between number of cases and number of deaths of all countries on 01/03/2023')\n",
    "ax = sns.regplot(x=cv_df[\"Total_cases\"], y=cv_df[\"Total_deaths\"], color=c2,\n",
    "            line_kws={\"color\":c1,\"alpha\":0.7,\"lw\":2}, scatter_kws={'edgecolor':ec}, ci=None)\n",
    "ax.set_xlabel('Number of cases')\n",
    "ax.set_ylabel('Number of deaths')\n",
    "ax.set_facecolor(bg);"
   ]
  },
  {
   "attachments": {},
   "cell_type": "markdown",
   "metadata": {},
   "source": [
    "- Nhận xét:\n",
    "\n",
    "    - Thông qua việc sử dụng ScatterPlot để thống kê mức độ tương quan giữa Tổng số ca nhiễm (Total_cases) và tổng số ca tử vong (Total_deaths) gây ra bởi Covid-19 từ trang https://www.worldometers.info/coronavirus/ , vào ngày 1/3/2023, ta có thể đưa ra 1 số nhận xét về mặt trực quan rằng:\n",
    "        - Tổng số ca nhiễm và tổng số ca tử vong có mối quan hệ tương quan tầm trung (moderate , positive) và tuyến tính , ở các nước toàn cầu có tổng số ca nhiễm cao thì sẽ có tỉ lệ ca tử vong cũng sẽ cao hơn những nước có tổng số ca nhiễm thấp hơn.\n",
    "        - Dữ liệu từ ngày 1/3/2023 trong trang thống kê này cũng cho thấy là dữ liệu có mối quan hệ nhân quả , khi mà số ca nhiễm gia tăng thì số ca tử vong cũng phần nào tăng cao , tỷ lệ thuận với số ca nhiễm . Đặc biệt là ở USA , với tổng số ca nhiễm là cao nhất với hơn 105 triệu ca nhiễm thì tổng số ca tử vong cũng là lớn nhất trong các quốc gia , tại 1.145.661 ca tử vong.\n",
    "        - Đa số các quốc gia có thể thấy được qua ScatterPlot, có tổng ca nhiễm và tổng ca tử vong trung bình đều dưới 20tr cho mỗi loại thông số. \n",
    "        - Quốc gia có tổng ca nhiễm/tổng ca tử vong lớn nhất (tính đến ngày 1/3/2023) là USA và thấp nhất là Tokelau với 5 tổng ca nhiễm và 0 ca tử vong "
   ]
  },
  {
   "attachments": {},
   "cell_type": "markdown",
   "metadata": {},
   "source": [
    "---"
   ]
  },
  {
   "attachments": {},
   "cell_type": "markdown",
   "metadata": {},
   "source": [
    "### **6.4. Tỉ lệ số ca nhiễm và tỉ lệ dân số giữa các vùng trên thế giới vào ngày 01/03/2023** <a name = \"section6_4\"></a>\n",
    "<div style=\"text-align: right\"\n",
    "\n",
    "[Quay về mục lục](#TOC)"
   ]
  },
  {
   "cell_type": "code",
   "execution_count": 329,
   "metadata": {},
   "outputs": [
    {
     "data": {
      "text/html": [
       "<div>\n",
       "<style scoped>\n",
       "    .dataframe tbody tr th:only-of-type {\n",
       "        vertical-align: middle;\n",
       "    }\n",
       "\n",
       "    .dataframe tbody tr th {\n",
       "        vertical-align: top;\n",
       "    }\n",
       "\n",
       "    .dataframe thead th {\n",
       "        text-align: right;\n",
       "    }\n",
       "</style>\n",
       "<table border=\"1\" class=\"dataframe\">\n",
       "  <thead>\n",
       "    <tr style=\"text-align: right;\">\n",
       "      <th></th>\n",
       "      <th>Total_cases</th>\n",
       "      <th>Population</th>\n",
       "      <th>Cases_proportion</th>\n",
       "      <th>Pop_proportion</th>\n",
       "    </tr>\n",
       "    <tr>\n",
       "      <th>Area</th>\n",
       "      <th></th>\n",
       "      <th></th>\n",
       "      <th></th>\n",
       "      <th></th>\n",
       "    </tr>\n",
       "  </thead>\n",
       "  <tbody>\n",
       "    <tr>\n",
       "      <th>Europe</th>\n",
       "      <td>246314132</td>\n",
       "      <td>7.475438e+08</td>\n",
       "      <td>36.22</td>\n",
       "      <td>9.409</td>\n",
       "    </tr>\n",
       "    <tr>\n",
       "      <th>Asia</th>\n",
       "      <td>214353455</td>\n",
       "      <td>4.711357e+09</td>\n",
       "      <td>31.52</td>\n",
       "      <td>59.300</td>\n",
       "    </tr>\n",
       "    <tr>\n",
       "      <th>North America</th>\n",
       "      <td>124590104</td>\n",
       "      <td>5.981409e+08</td>\n",
       "      <td>18.32</td>\n",
       "      <td>7.529</td>\n",
       "    </tr>\n",
       "    <tr>\n",
       "      <th>South America</th>\n",
       "      <td>68008352</td>\n",
       "      <td>4.376944e+08</td>\n",
       "      <td>10.00</td>\n",
       "      <td>5.509</td>\n",
       "    </tr>\n",
       "    <tr>\n",
       "      <th>Australia/Oceania</th>\n",
       "      <td>13996296</td>\n",
       "      <td>4.347041e+07</td>\n",
       "      <td>2.06</td>\n",
       "      <td>0.547</td>\n",
       "    </tr>\n",
       "    <tr>\n",
       "      <th>Africa</th>\n",
       "      <td>12794281</td>\n",
       "      <td>1.406729e+09</td>\n",
       "      <td>1.88</td>\n",
       "      <td>17.706</td>\n",
       "    </tr>\n",
       "  </tbody>\n",
       "</table>\n",
       "</div>"
      ],
      "text/plain": [
       "                   Total_cases    Population  Cases_proportion  Pop_proportion\n",
       "Area                                                                          \n",
       "Europe               246314132  7.475438e+08             36.22           9.409\n",
       "Asia                 214353455  4.711357e+09             31.52          59.300\n",
       "North America        124590104  5.981409e+08             18.32           7.529\n",
       "South America         68008352  4.376944e+08             10.00           5.509\n",
       "Australia/Oceania     13996296  4.347041e+07              2.06           0.547\n",
       "Africa                12794281  1.406729e+09              1.88          17.706"
      ]
     },
     "execution_count": 329,
     "metadata": {},
     "output_type": "execute_result"
    }
   ],
   "source": [
    "areas = cv_df[['Total_cases', 'Population', 'Area']].groupby(['Area']).sum().sort_values(['Total_cases'], ascending=False)\n",
    "areas = areas.drop(index='Other')\n",
    "\n",
    "areas['Cases_proportion'] = (areas['Total_cases'] / areas['Total_cases'].sum() * 100).round(2)\n",
    "areas['Pop_proportion']   = (areas['Population']  / areas['Population'].sum()  * 100).round(3)\n",
    "areas"
   ]
  },
  {
   "cell_type": "code",
   "execution_count": 330,
   "metadata": {},
   "outputs": [
    {
     "data": {
      "text/html": [
       "<div>\n",
       "<style scoped>\n",
       "    .dataframe tbody tr th:only-of-type {\n",
       "        vertical-align: middle;\n",
       "    }\n",
       "\n",
       "    .dataframe tbody tr th {\n",
       "        vertical-align: top;\n",
       "    }\n",
       "\n",
       "    .dataframe thead th {\n",
       "        text-align: right;\n",
       "    }\n",
       "</style>\n",
       "<table border=\"1\" class=\"dataframe\">\n",
       "  <thead>\n",
       "    <tr style=\"text-align: right;\">\n",
       "      <th></th>\n",
       "      <th>Total_cases</th>\n",
       "      <th>Population</th>\n",
       "      <th>Cases_proportion</th>\n",
       "      <th>Pop_proportion</th>\n",
       "    </tr>\n",
       "    <tr>\n",
       "      <th>Area</th>\n",
       "      <th></th>\n",
       "      <th></th>\n",
       "      <th></th>\n",
       "      <th></th>\n",
       "    </tr>\n",
       "  </thead>\n",
       "  <tbody>\n",
       "    <tr>\n",
       "      <th>Europe</th>\n",
       "      <td>246314132</td>\n",
       "      <td>7.475438e+08</td>\n",
       "      <td>36.22</td>\n",
       "      <td>9.409</td>\n",
       "    </tr>\n",
       "    <tr>\n",
       "      <th>Asia</th>\n",
       "      <td>214353455</td>\n",
       "      <td>4.711357e+09</td>\n",
       "      <td>31.52</td>\n",
       "      <td>59.300</td>\n",
       "    </tr>\n",
       "    <tr>\n",
       "      <th>North America</th>\n",
       "      <td>124590104</td>\n",
       "      <td>5.981409e+08</td>\n",
       "      <td>18.32</td>\n",
       "      <td>7.529</td>\n",
       "    </tr>\n",
       "    <tr>\n",
       "      <th>South America</th>\n",
       "      <td>68008352</td>\n",
       "      <td>4.376944e+08</td>\n",
       "      <td>10.00</td>\n",
       "      <td>5.509</td>\n",
       "    </tr>\n",
       "    <tr>\n",
       "      <th>Australia/Oceania</th>\n",
       "      <td>13996296</td>\n",
       "      <td>4.347041e+07</td>\n",
       "      <td>2.06</td>\n",
       "      <td>0.547</td>\n",
       "    </tr>\n",
       "    <tr>\n",
       "      <th>Africa</th>\n",
       "      <td>12794281</td>\n",
       "      <td>1.406729e+09</td>\n",
       "      <td>1.88</td>\n",
       "      <td>17.706</td>\n",
       "    </tr>\n",
       "  </tbody>\n",
       "</table>\n",
       "</div>"
      ],
      "text/plain": [
       "                   Total_cases    Population  Cases_proportion  Pop_proportion\n",
       "Area                                                                          \n",
       "Europe               246314132  7.475438e+08             36.22           9.409\n",
       "Asia                 214353455  4.711357e+09             31.52          59.300\n",
       "North America        124590104  5.981409e+08             18.32           7.529\n",
       "South America         68008352  4.376944e+08             10.00           5.509\n",
       "Australia/Oceania     13996296  4.347041e+07              2.06           0.547\n",
       "Africa                12794281  1.406729e+09              1.88          17.706"
      ]
     },
     "execution_count": 330,
     "metadata": {},
     "output_type": "execute_result"
    }
   ],
   "source": [
    "areas = areas.sort_values('Cases_proportion', ascending=False)\n",
    "cases_label = areas.index\n",
    "cases_prop = areas['Cases_proportion']\n",
    "cases_explode = [0.1, 0, 0, 0, 0 ,0]\n",
    "areas"
   ]
  },
  {
   "cell_type": "code",
   "execution_count": 331,
   "metadata": {},
   "outputs": [
    {
     "data": {
      "text/html": [
       "<div>\n",
       "<style scoped>\n",
       "    .dataframe tbody tr th:only-of-type {\n",
       "        vertical-align: middle;\n",
       "    }\n",
       "\n",
       "    .dataframe tbody tr th {\n",
       "        vertical-align: top;\n",
       "    }\n",
       "\n",
       "    .dataframe thead th {\n",
       "        text-align: right;\n",
       "    }\n",
       "</style>\n",
       "<table border=\"1\" class=\"dataframe\">\n",
       "  <thead>\n",
       "    <tr style=\"text-align: right;\">\n",
       "      <th></th>\n",
       "      <th>Total_cases</th>\n",
       "      <th>Population</th>\n",
       "      <th>Cases_proportion</th>\n",
       "      <th>Pop_proportion</th>\n",
       "    </tr>\n",
       "    <tr>\n",
       "      <th>Area</th>\n",
       "      <th></th>\n",
       "      <th></th>\n",
       "      <th></th>\n",
       "      <th></th>\n",
       "    </tr>\n",
       "  </thead>\n",
       "  <tbody>\n",
       "    <tr>\n",
       "      <th>Asia</th>\n",
       "      <td>214353455</td>\n",
       "      <td>4.711357e+09</td>\n",
       "      <td>31.52</td>\n",
       "      <td>59.300</td>\n",
       "    </tr>\n",
       "    <tr>\n",
       "      <th>Africa</th>\n",
       "      <td>12794281</td>\n",
       "      <td>1.406729e+09</td>\n",
       "      <td>1.88</td>\n",
       "      <td>17.706</td>\n",
       "    </tr>\n",
       "    <tr>\n",
       "      <th>Europe</th>\n",
       "      <td>246314132</td>\n",
       "      <td>7.475438e+08</td>\n",
       "      <td>36.22</td>\n",
       "      <td>9.409</td>\n",
       "    </tr>\n",
       "    <tr>\n",
       "      <th>North America</th>\n",
       "      <td>124590104</td>\n",
       "      <td>5.981409e+08</td>\n",
       "      <td>18.32</td>\n",
       "      <td>7.529</td>\n",
       "    </tr>\n",
       "    <tr>\n",
       "      <th>South America</th>\n",
       "      <td>68008352</td>\n",
       "      <td>4.376944e+08</td>\n",
       "      <td>10.00</td>\n",
       "      <td>5.509</td>\n",
       "    </tr>\n",
       "    <tr>\n",
       "      <th>Australia/Oceania</th>\n",
       "      <td>13996296</td>\n",
       "      <td>4.347041e+07</td>\n",
       "      <td>2.06</td>\n",
       "      <td>0.547</td>\n",
       "    </tr>\n",
       "  </tbody>\n",
       "</table>\n",
       "</div>"
      ],
      "text/plain": [
       "                   Total_cases    Population  Cases_proportion  Pop_proportion\n",
       "Area                                                                          \n",
       "Asia                 214353455  4.711357e+09             31.52          59.300\n",
       "Africa                12794281  1.406729e+09              1.88          17.706\n",
       "Europe               246314132  7.475438e+08             36.22           9.409\n",
       "North America        124590104  5.981409e+08             18.32           7.529\n",
       "South America         68008352  4.376944e+08             10.00           5.509\n",
       "Australia/Oceania     13996296  4.347041e+07              2.06           0.547"
      ]
     },
     "execution_count": 331,
     "metadata": {},
     "output_type": "execute_result"
    }
   ],
   "source": [
    "areas = areas.sort_values('Pop_proportion', ascending=False)\n",
    "pop_label = areas.index\n",
    "pop_prop = areas['Pop_proportion']\n",
    "pop_explode = [0.1, 0, 0, 0, 0 ,0]\n",
    "areas"
   ]
  },
  {
   "cell_type": "code",
   "execution_count": 332,
   "metadata": {},
   "outputs": [
    {
     "data": {
      "image/png": "[encoded data removed]",
      "text/plain": [
       "<Figure size 1440x720 with 2 Axes>"
      ]
     },
     "metadata": {},
     "output_type": "display_data"
    }
   ],
   "source": [
    "fig, ax = plt.subplots(1, 2, figsize=(20,10))\n",
    "fig.set_facecolor(bg)\n",
    "\n",
    "wedges1, texts = ax[0].pie(cases_prop, labels=cases_prop.astype('str').apply(lambda x: x + '%'), \n",
    "                           explode=cases_explode, shadow=True, counterclock=False, startangle=90,);\n",
    "ax[0].set_title('Proportion of Number of Cases of each Area')\n",
    "ax[0].legend(wedges1, cases_label, title=\"Area\", loc=\"best\", bbox_to_anchor=(0.63, 0.5, 0.5, 0.5))\n",
    "\n",
    "wedges2, texts = ax[1].pie(pop_prop, labels=pop_prop.astype('str').apply(lambda x: x + '%'), \n",
    "                           explode=pop_explode, shadow=True, counterclock=False, startangle=90);\n",
    "ax[1].set_title('Proportion of Population of each Area')\n",
    "ax[1].legend(wedges2, pop_label, title=\"Area\", loc=\"best\", bbox_to_anchor=(0.61, 0.5, 0.5, 0.5));"
   ]
  },
  {
   "cell_type": "code",
   "execution_count": 333,
   "metadata": {},
   "outputs": [
    {
     "data": {
      "text/html": [
       "<div>\n",
       "<style scoped>\n",
       "    .dataframe tbody tr th:only-of-type {\n",
       "        vertical-align: middle;\n",
       "    }\n",
       "\n",
       "    .dataframe tbody tr th {\n",
       "        vertical-align: top;\n",
       "    }\n",
       "\n",
       "    .dataframe thead th {\n",
       "        text-align: right;\n",
       "    }\n",
       "</style>\n",
       "<table border=\"1\" class=\"dataframe\">\n",
       "  <thead>\n",
       "    <tr style=\"text-align: right;\">\n",
       "      <th></th>\n",
       "      <th>Total_cases</th>\n",
       "      <th>Population</th>\n",
       "      <th>Cases_proportion</th>\n",
       "      <th>Pop_proportion</th>\n",
       "      <th>Infection_rate</th>\n",
       "    </tr>\n",
       "    <tr>\n",
       "      <th>Area</th>\n",
       "      <th></th>\n",
       "      <th></th>\n",
       "      <th></th>\n",
       "      <th></th>\n",
       "      <th></th>\n",
       "    </tr>\n",
       "  </thead>\n",
       "  <tbody>\n",
       "    <tr>\n",
       "      <th>Europe</th>\n",
       "      <td>246314132</td>\n",
       "      <td>7.475438e+08</td>\n",
       "      <td>36.22</td>\n",
       "      <td>9.409</td>\n",
       "      <td>32.95</td>\n",
       "    </tr>\n",
       "    <tr>\n",
       "      <th>Australia/Oceania</th>\n",
       "      <td>13996296</td>\n",
       "      <td>4.347041e+07</td>\n",
       "      <td>2.06</td>\n",
       "      <td>0.547</td>\n",
       "      <td>32.20</td>\n",
       "    </tr>\n",
       "    <tr>\n",
       "      <th>North America</th>\n",
       "      <td>124590104</td>\n",
       "      <td>5.981409e+08</td>\n",
       "      <td>18.32</td>\n",
       "      <td>7.529</td>\n",
       "      <td>20.83</td>\n",
       "    </tr>\n",
       "    <tr>\n",
       "      <th>South America</th>\n",
       "      <td>68008352</td>\n",
       "      <td>4.376944e+08</td>\n",
       "      <td>10.00</td>\n",
       "      <td>5.509</td>\n",
       "      <td>15.54</td>\n",
       "    </tr>\n",
       "    <tr>\n",
       "      <th>Asia</th>\n",
       "      <td>214353455</td>\n",
       "      <td>4.711357e+09</td>\n",
       "      <td>31.52</td>\n",
       "      <td>59.300</td>\n",
       "      <td>4.55</td>\n",
       "    </tr>\n",
       "    <tr>\n",
       "      <th>Africa</th>\n",
       "      <td>12794281</td>\n",
       "      <td>1.406729e+09</td>\n",
       "      <td>1.88</td>\n",
       "      <td>17.706</td>\n",
       "      <td>0.91</td>\n",
       "    </tr>\n",
       "  </tbody>\n",
       "</table>\n",
       "</div>"
      ],
      "text/plain": [
       "                   Total_cases    Population  Cases_proportion  \\\n",
       "Area                                                             \n",
       "Europe               246314132  7.475438e+08             36.22   \n",
       "Australia/Oceania     13996296  4.347041e+07              2.06   \n",
       "North America        124590104  5.981409e+08             18.32   \n",
       "South America         68008352  4.376944e+08             10.00   \n",
       "Asia                 214353455  4.711357e+09             31.52   \n",
       "Africa                12794281  1.406729e+09              1.88   \n",
       "\n",
       "                   Pop_proportion  Infection_rate  \n",
       "Area                                               \n",
       "Europe                      9.409           32.95  \n",
       "Australia/Oceania           0.547           32.20  \n",
       "North America               7.529           20.83  \n",
       "South America               5.509           15.54  \n",
       "Asia                       59.300            4.55  \n",
       "Africa                     17.706            0.91  "
      ]
     },
     "execution_count": 333,
     "metadata": {},
     "output_type": "execute_result"
    }
   ],
   "source": [
    "areas['Infection_rate'] = (areas['Total_cases'] / areas['Population']* 100).round(2)\n",
    "areas = areas.sort_values('Infection_rate', ascending=False)\n",
    "areas_name = areas.index\n",
    "infection_rate = areas['Infection_rate']\n",
    "areas"
   ]
  },
  {
   "cell_type": "code",
   "execution_count": 334,
   "metadata": {},
   "outputs": [
    {
     "data": {
      "image/png": "[encoded data removed]",
      "text/plain": [
       "<Figure size 864x504 with 1 Axes>"
      ]
     },
     "metadata": {},
     "output_type": "display_data"
    }
   ],
   "source": [
    "fig = plt.figure(figsize=(12,7))\n",
    "fig.set_facecolor(fc)\n",
    "ax = plt.axes()\n",
    "ax.set_facecolor(bg)\n",
    "\n",
    "bars = plt.bar(areas_name, infection_rate, width=0.5, color=c1, edgecolor=ec)\n",
    "plt.bar_label(bars);\n",
    "plt.xlabel('Area')\n",
    "plt.ylabel('Infection rate (%)')\n",
    "plt.title('Infection rate of each Area');"
   ]
  },
  {
   "attachments": {},
   "cell_type": "markdown",
   "metadata": {},
   "source": [
    "- Nhận xét:\n",
    "\t\n",
    "    - Xét biểu đồ tỉ lệ số ca nhiễm theo khu vực vào ngày 01/03/2023, châu Âu chiếm tỉ trọng cao nhất (36.22%), tiếp theo đó là châu Á với 31.52%; châu Đại Dương và châu Phi là 2 khu vực có tỉ trọng số ca nhiễm thấp nhất với chỉ lần lượt là 2.06% và 1.88%.\n",
    "\t- Xét biểu đồ tỉ lệ dân số theo khu vực vào ngày 01/03/2023, ta thấy châu Á đứng đầu tiền với tỉ trọng lên đến 59.3%, trong khi khu vực có tỉ trọng số ca nhiễm cao nhất lại có tỉ trọng dân số tương đối thấp (9.409%) và chỉ xếp thứ 3.\n",
    "\t- Qua 2 nhận xét trên, 1 điều có thể thấy là tuy tỉ lệ số ca nhiễm ở châu  u cao nhưng tỉ lệ dân số quá thấp đã dẫn đến việc tỉ lệ nhiễm bệnh trên đầu người ở khu vực này rất cao (chiếm đến 32.95%), trong khi điều ngược lại có thể nhận ra đối với châu Á khi mà vùng này có tỉ lệ dân số quá cao so với thế giới dẫn tới việc tỉ lệ nhiễm bệnh của khu vực này tương đối thấp (chỉ rơi vào khoảng 4.55%).\n",
    "\t\n",
    "        → Từ những nhận định sơ bộ vừa rồi, ta có thể rút ra được rằng không thể chỉ dựa vào tỉ lệ số ca nhiễm của 1 khu vực mà đánh giá tình trạng dịch ở khu vực đó được. Đôi khi chỉ cần thay đổi góc nhìn 1 chút, nhìn rộng ra 1 tí, cụ thể là xem xét về tỉ lệ nhiễm bệnh trên đầu người, ta có thể thấy tình trạng dịch bệnh của từng khu vực 1 cách thấu đáo hơn và khách quan hơn.\n"
   ]
  },
  {
   "attachments": {},
   "cell_type": "markdown",
   "metadata": {},
   "source": [
    "---"
   ]
  },
  {
   "attachments": {},
   "cell_type": "markdown",
   "metadata": {},
   "source": [
    "### **6.5. Số ca mắc mới, ca chết mới và ca hồi phục mới qua từng ngày của 3 nước Nhật Bản, Nga, và Đài Loan từ ngày 01/03/2023 đến ngày 07/03/2023** <a name = \"section6_5\"></a>\n",
    "<div style=\"text-align: right\"\n",
    "\n",
    "[Quay về mục lục](#TOC)"
   ]
  },
  {
   "cell_type": "code",
   "execution_count": 335,
   "metadata": {},
   "outputs": [],
   "source": [
    "df1 = pd.read_csv('datasets/01-03-2023.csv')\n",
    "df1 = df1[(df1.Country==\"Japan\") | (df1.Country==\"Taiwan\") | (df1.Country==\"Russia\")][['Country','New_cases','New_recovered','New_Deaths']].reset_index()\n",
    "\n",
    "df2 = pd.read_csv('datasets/02-03-2023.csv')\n",
    "df2 = df2[(df2.Country==\"Japan\") | (df2.Country==\"Taiwan\") | (df2.Country==\"Russia\")][['Country','New_cases','New_recovered','New_Deaths']].reset_index()\n",
    "\n",
    "df3 = pd.read_csv('datasets/03-03-2023.csv')\n",
    "df3 = df3[(df3.Country==\"Japan\") | (df3.Country==\"Taiwan\") | (df3.Country==\"Russia\")][['Country','New_cases','New_recovered','New_Deaths']].reset_index()\n",
    "\n",
    "df4 = pd.read_csv('datasets/04-03-2023.csv')\n",
    "df4 = df4[(df4.Country==\"Japan\") | (df4.Country==\"Taiwan\") | (df4.Country==\"Russia\")][['Country','New_cases','New_recovered','New_Deaths']].reset_index()\n",
    "\n",
    "df5 = pd.read_csv('datasets/05-03-2023.csv')\n",
    "df5 =df5[(df5.Country==\"Japan\") | (df5.Country==\"Taiwan\") | (df5.Country==\"Russia\")][['Country','New_cases','New_recovered','New_Deaths']].reset_index()\n",
    "\n",
    "df6 = pd.read_csv('datasets/06-03-2023.csv')\n",
    "df6 = df6[(df6.Country==\"Japan\") | (df6.Country==\"Taiwan\") | (df6.Country==\"Russia\")][['Country','New_cases','New_recovered','New_Deaths']].reset_index()\n",
    "\n",
    "df7 = pd.read_csv('datasets/07-03-2023.csv')\n",
    "df7 = df7[(df7.Country==\"Japan\") | (df7.Country==\"Taiwan\") | (df7.Country==\"Russia\")][['Country','New_cases','New_recovered','New_Deaths']].reset_index()"
   ]
  },
  {
   "cell_type": "code",
   "execution_count": 336,
   "metadata": {},
   "outputs": [
    {
     "data": {
      "image/png": "[encoded data removed]",
      "text/plain": [
       "<Figure size 864x504 with 1 Axes>"
      ]
     },
     "metadata": {},
     "output_type": "display_data"
    }
   ],
   "source": [
    "date = ['01-03','02-03','03-03','04-03','05-03','06-03','07-03']\n",
    "jp_newcases = [df1['New_cases'].loc[0], df2['New_cases'].loc[0], df3['New_cases'].loc[0],\n",
    "               df4['New_cases'].loc[0], df5['New_cases'].loc[0], df6['New_cases'].loc[0], df7['New_cases'].loc[0]]\n",
    "rs_newcases = [df1['New_cases'].loc[1], df2['New_cases'].loc[1], df3['New_cases'].loc[1],\n",
    "               df4['New_cases'].loc[1], df5['New_cases'].loc[1], df6['New_cases'].loc[1], df7['New_cases'].loc[1]]\n",
    "tw_newcases = [df1['New_cases'].loc[2], df2['New_cases'].loc[2], df3['New_cases'].loc[2],\n",
    "               df4['New_cases'].loc[2], df5['New_cases'].loc[2], df6['New_cases'].loc[2], df7['New_cases'].loc[2]]\n",
    "\n",
    "fig, ax = plt.subplots(figsize=(12, 7))\n",
    "fig.set_facecolor(fc)\n",
    "ax.plot(date, jp_newcases, label=\"Japan\")\n",
    "ax.plot(date, rs_newcases, label=\"Russia\")\n",
    "ax.plot(date, tw_newcases, label=\"Taiwan\")\n",
    "\n",
    "ax.set_facecolor(bg)\n",
    "ax.legend()\n",
    "ax.set_title('Number of new cases of Japan, Russia and Taiwan from 01/03/2023 to 07/03/2023')\n",
    "ax.set_xlabel('Date')\n",
    "ax.set_ylabel('Number of new cases');"
   ]
  },
  {
   "attachments": {},
   "cell_type": "markdown",
   "metadata": {},
   "source": [
    "- Nhận xét:\n",
    "\n",
    "    - Số ca nhiễm mới của ba nước ( từ ngày 1/3/2023 đến 7/3/2023) biến động theo thời gian.\n",
    "    - Ở Nhật Bản, từ ngày 1/3/2023 đến ngày 6/3/2023, số ca nhiễm mới có xu hướng giảm ( khoảng từ 14000 ca xuống còn khoảng 4500 ca) và tăng lại sau ngày 6/3/2023 ( lên đến khoảng 12000 ca).\n",
    "    - Ở Nga, từ ngày 1/3/2023 đến ngày 3/3/2023, số ca nhiễm mới có xu hướng tăng nhẹ ( từ khoảng 13500 ca đến hơn khoảng 14500 ca) và giảm dần đến ngày 7/3/2023 ( giảm dần về 11000 ca).\n",
    "    - Ở Đài Loan, trong 24 giờ từ ngày 1/3/2023, số ca nhiễm có xu hướng thay đổi theo chiều tăng dần ( từ 12000 ca đến 14000 ca), giảm dần đến ngày 6/3/2023 ( từ 14000 ca giảm dần về 7000 ca) và tăng lại ( tăng đến khoảng 11500 ca).\n",
    "    - Theo số ca nhiễm giữa 3 nước Đài Loan, Nhật Bản, Nga thì Nhật Bản có số ca nhiễm mới cao nhất vào ngày 1/3/2023 ( khoảng 14000 ca so với Đài Loan là hơn 12000 ca và Nga hơn 13500 ca ) và vào ngày 7/3/2023 ( khoảng  hơn 12000 ca so với Đài Loan là hơn 11500 ca và Nga gần 11500 ca ).\n"
   ]
  },
  {
   "cell_type": "code",
   "execution_count": 337,
   "metadata": {},
   "outputs": [
    {
     "data": {
      "image/png": "[encoded data removed]",
      "text/plain": [
       "<Figure size 864x504 with 1 Axes>"
      ]
     },
     "metadata": {},
     "output_type": "display_data"
    }
   ],
   "source": [
    "jp_newrcv = [df1['New_recovered'].loc[0], df2['New_recovered'].loc[0], df3['New_recovered'].loc[0],\n",
    "             df4['New_recovered'].loc[0], df5['New_recovered'].loc[0], df6['New_recovered'].loc[0], df7['New_recovered'].loc[0]]\n",
    "rs_newrcv = [df1['New_recovered'].loc[1], df2['New_recovered'].loc[1], df3['New_recovered'].loc[1],\n",
    "             df4['New_recovered'].loc[1], df5['New_recovered'].loc[1], df6['New_recovered'].loc[1], df7['New_recovered'].loc[1]]\n",
    "tw_newrcv = [df1['New_recovered'].loc[2], df2['New_recovered'].loc[2], df3['New_recovered'].loc[2],\n",
    "             df4['New_recovered'].loc[2], df5['New_recovered'].loc[2], df6['New_recovered'].loc[2], df7['New_recovered'].loc[2]]\n",
    "\n",
    "fig, ax = plt.subplots(figsize=(12, 7))\n",
    "fig.set_facecolor(fc)\n",
    "ax.plot(date, jp_newrcv, label=\"Japan\")\n",
    "ax.plot(date, rs_newrcv, label=\"Russia\")\n",
    "ax.plot(date, tw_newrcv, label=\"Taiwan\")\n",
    "\n",
    "ax.set_facecolor(bg)\n",
    "ax.legend()\n",
    "ax.set_title('Number of new recovered cases of Japan, Russia and Taiwan from 01/03/2023 to 07/03/2023')\n",
    "ax.set_xlabel('Date')\n",
    "ax.set_ylabel('Number of new recovered cases');"
   ]
  },
  {
   "attachments": {},
   "cell_type": "markdown",
   "metadata": {},
   "source": [
    "- Nhận xét:\n",
    "\n",
    "    - Số ca hồi phục của ba nước ( từ ngày 1/3/2023 đến 7/3/2023) dao động nhẹ.\n",
    "    - Ở Nhật Bản, từ ngày 1/3/2023 đến ngày 7/3/2023, số ca hồi phục thay đổi nhẹ và tăng lên cao nhất vào ngày 4/3/2023 ( từ khoảng 1200 ca tăng đến hơn 3000 ca).  \n",
    "    - Ở Nga, từ ngày 1/3/2023 đến ngày 6/3/2023, số ca hồi phục có xu hướng giảm ( từ khoảng hơn 16250 ca giảm về còn khoảng 9000 ca) và tăng đến ngày 7/3/2023 ( lên 15000 ca).\n",
    "    - Ở Đài Loan, số ca hồi phục có xu hướng giảm mạnh từ ngày 1/3/2023 đến ngày 5/3/2023 ( từ hơn 21000 ca giảm về còn 13500 ca) và tăng mạnh trở lại ( lên đến 21000 ca).\n",
    "    - Theo số liệu giữa 3 nước Đài Loan, Nhật Bản, Nga thì Đài Loan có số ca hồi phục nhiều nhất ( cao nhất khoảng 21000 ca và thấp nhất khoảng 13500 ca), tiếp theo đó là Nga ( cao nhất khoảng 17000 ca và thấp nhất vào khoảng dưới 9000 ca) và cuối cùng là Nhật Bản ( cao nhất khoảng 3000 ca và thấp nhất khoảng 1200 ca).\n"
   ]
  },
  {
   "cell_type": "code",
   "execution_count": 338,
   "metadata": {},
   "outputs": [
    {
     "data": {
      "image/png": "[encoded data removed]",
      "text/plain": [
       "<Figure size 864x504 with 1 Axes>"
      ]
     },
     "metadata": {},
     "output_type": "display_data"
    }
   ],
   "source": [
    "jp_newdeaths = [df1['New_Deaths'].loc[0], df2['New_Deaths'].loc[0], df3['New_Deaths'].loc[0],\n",
    "                df4['New_Deaths'].loc[0], df5['New_Deaths'].loc[0], df6['New_Deaths'].loc[0], df7['New_Deaths'].loc[0]]\n",
    "rs_newdeaths = [df1['New_Deaths'].loc[1], df2['New_Deaths'].loc[1], df3['New_Deaths'].loc[1],\n",
    "                df4['New_Deaths'].loc[1], df5['New_Deaths'].loc[1], df6['New_Deaths'].loc[1], df7['New_Deaths'].loc[1]]\n",
    "tw_newdeaths = [df1['New_Deaths'].loc[2], df2['New_Deaths'].loc[2], df3['New_Deaths'].loc[2],\n",
    "                df4['New_Deaths'].loc[2], df5['New_Deaths'].loc[2], df6['New_Deaths'].loc[2], df7['New_Deaths'].loc[2]]\n",
    "\n",
    "fig, ax = plt.subplots(figsize=(12, 7))\n",
    "fig.set_facecolor(fc)\n",
    "ax.plot(date, jp_newdeaths, label=\"Japan\")\n",
    "ax.plot(date, rs_newdeaths, label=\"Russia\")\n",
    "ax.plot(date, tw_newdeaths, label=\"Taiwan\")\n",
    "\n",
    "ax.set_facecolor(bg)\n",
    "ax.legend()\n",
    "ax.set_title('Number of new deaths of Japan, Russia and Taiwan from 01/03/2023 to 07/03/2023')\n",
    "ax.set_xlabel('Date')\n",
    "ax.set_ylabel('Number of new deaths');"
   ]
  },
  {
   "attachments": {},
   "cell_type": "markdown",
   "metadata": {},
   "source": [
    "- Nhận xét:\n",
    "\n",
    "    - Số ca tử vong mới của ba nước ( từ ngày 1/3/2023 đến 7/3/2023) có sự biến động mạnh ở 2 nước Nhật Bản với Đài Loan trong khi Nga chỉ dao động nhẹ.\n",
    "    - Ở Nhật Bản, từ ngày 1/3/2023 đến ngày 7/3/2023, số ca tử vong giảm mạnh ( từ 100 ca giảm về còn khoảng 35 ca).  \n",
    "    - Ở Nga, từ ngày 1/3/2023 đến ngày 7/3/2023, số ca tử vong không có nhiều biến đổi ( dao động trong khoảng 35 đến hơn 40 ca).\n",
    "    - Ở Đài Loan, số ca tử vong tăng từ 1/3/2023 đến 4/3/2023 ( từ dưới 30 ca đến gần 70 ca) và giảm dần đến ngày 7/3/2023 ( xuống còn khoảng 35 ca).\n",
    "    - Theo số liệu giữa 3 nước Đài Loan, Nhật Bản, Nga thì Nga có xu hướng ổn định nhất ( chỉ trong khoảng 35 đến 45 ca), tiếp đó là Nhật Bản với chiều hướng giảm dần ( chỉ tăng lại vào ngày 3/3/2023 sau đó tiếp tục giảm) và Đài Loan là nước thay đổi thiếu ổn định nhất ( ngày 1/3/2023 và ngày 7/3/2023 là thấp nhất trong 3 nước nhưng khoảng từ 2/3/2023 đến 6/3/2023 thì lại dao động không đều).\n"
   ]
  },
  {
   "attachments": {},
   "cell_type": "markdown",
   "metadata": {},
   "source": [
    "- Kết luận:\n",
    "\n",
    "    - Nhìn chung, số ca nhiễm mới của Nhật Bản tương đối nhiều, nhưng số ca hồi phục lại thấp hơn so với Nga và Đài Loan và không có chiều hướng tăng, điều này cho thấy tình hình dịch bệnh ở Nhật Bản vẫn chưa được kiểm soát tốt\n",
    "    - Trong khi Nga và Đài Loan tuy số ca nhiễm mới nhiều, nhưng số ca hồi phục tương đối cao và ổn định, số ca tử vong vẫn được kiểm soát và chiếm thiểu số ( trung bình chiếm 0,005% ở Đài Loan và 0,0027% ở Nga), điều này cho thấy tình hình dịch bệnh ở 2 nước Nga và Đài Loan được kiểm soát khá tốt.\n",
    "    - Ngoài ra các yếu tố tác động khác dẫn đến việc hồi phục và tử vong vẫn khiến việc biểu đồ thể hiện chưa chính xác hoàn toàn( tuổi tác, bệnh nền,…)\n"
   ]
  },
  {
   "attachments": {},
   "cell_type": "markdown",
   "metadata": {},
   "source": [
    "---"
   ]
  },
  {
   "attachments": {},
   "cell_type": "markdown",
   "metadata": {},
   "source": [
    "### **6.6. Tỉ lệ giữa số ca chết, số ca hồi phục và số ca đang nhiễm bệnh trên tổng số ca của các vùng trên thế giới vào ngày 01/03/2023** <a name = \"section6_6\"></a>\n",
    "<div style=\"text-align: right\"\n",
    "\n",
    "[Quay về mục lục](#TOC)"
   ]
  },
  {
   "attachments": {},
   "cell_type": "markdown",
   "metadata": {},
   "source": [
    "Vì `Total_cases` bằng tổng `Total_deaths`, `Total_recovered`, `Active_cases`. Do đó, để trả lời câu hỏi này, bằng cách ở mỗi khu vực `Area`, lấy tổng 'Total_cases', 'Total_deaths', 'Total_recovered', 'Active_cases' sau đó dùng stacked bar chart để mô tả dữ liệu\n",
    "\n",
    "Trước tiên hãy xem qua dữ liệu ban đầu"
   ]
  },
  {
   "cell_type": "code",
   "execution_count": 339,
   "metadata": {},
   "outputs": [
    {
     "data": {
      "text/html": [
       "<div>\n",
       "<style scoped>\n",
       "    .dataframe tbody tr th:only-of-type {\n",
       "        vertical-align: middle;\n",
       "    }\n",
       "\n",
       "    .dataframe tbody tr th {\n",
       "        vertical-align: top;\n",
       "    }\n",
       "\n",
       "    .dataframe thead th {\n",
       "        text-align: right;\n",
       "    }\n",
       "</style>\n",
       "<table border=\"1\" class=\"dataframe\">\n",
       "  <thead>\n",
       "    <tr style=\"text-align: right;\">\n",
       "      <th></th>\n",
       "      <th>Country</th>\n",
       "      <th>Total_cases</th>\n",
       "      <th>New_cases</th>\n",
       "      <th>Total_deaths</th>\n",
       "      <th>New_Deaths</th>\n",
       "      <th>Total_recovered</th>\n",
       "      <th>New_recovered</th>\n",
       "      <th>Active_cases</th>\n",
       "      <th>Serious_critical</th>\n",
       "      <th>Cases/1Mpop</th>\n",
       "      <th>Deaths/1Mpop</th>\n",
       "      <th>Total_tests</th>\n",
       "      <th>Tests/1Mpop</th>\n",
       "      <th>Population</th>\n",
       "      <th>Area</th>\n",
       "    </tr>\n",
       "  </thead>\n",
       "  <tbody>\n",
       "    <tr>\n",
       "      <th>0</th>\n",
       "      <td>USA</td>\n",
       "      <td>105285347</td>\n",
       "      <td>NaN</td>\n",
       "      <td>1145661.0</td>\n",
       "      <td>NaN</td>\n",
       "      <td>102682399.0</td>\n",
       "      <td>NaN</td>\n",
       "      <td>1457287.0</td>\n",
       "      <td>2533.0</td>\n",
       "      <td>314467.0</td>\n",
       "      <td>3422.0</td>\n",
       "      <td>1.166932e+09</td>\n",
       "      <td>3485405.0</td>\n",
       "      <td>3.348053e+08</td>\n",
       "      <td>North America</td>\n",
       "    </tr>\n",
       "    <tr>\n",
       "      <th>1</th>\n",
       "      <td>India</td>\n",
       "      <td>44686611</td>\n",
       "      <td>NaN</td>\n",
       "      <td>530772.0</td>\n",
       "      <td>NaN</td>\n",
       "      <td>44153504.0</td>\n",
       "      <td>NaN</td>\n",
       "      <td>2335.0</td>\n",
       "      <td>NaN</td>\n",
       "      <td>31769.0</td>\n",
       "      <td>377.0</td>\n",
       "      <td>9.186799e+08</td>\n",
       "      <td>653106.0</td>\n",
       "      <td>1.406632e+09</td>\n",
       "      <td>Asia</td>\n",
       "    </tr>\n",
       "    <tr>\n",
       "      <th>2</th>\n",
       "      <td>France</td>\n",
       "      <td>39622231</td>\n",
       "      <td>NaN</td>\n",
       "      <td>164963.0</td>\n",
       "      <td>NaN</td>\n",
       "      <td>39387145.0</td>\n",
       "      <td>NaN</td>\n",
       "      <td>70123.0</td>\n",
       "      <td>869.0</td>\n",
       "      <td>604140.0</td>\n",
       "      <td>2515.0</td>\n",
       "      <td>2.714902e+08</td>\n",
       "      <td>4139547.0</td>\n",
       "      <td>6.558452e+07</td>\n",
       "      <td>Europe</td>\n",
       "    </tr>\n",
       "    <tr>\n",
       "      <th>3</th>\n",
       "      <td>Germany</td>\n",
       "      <td>38168908</td>\n",
       "      <td>NaN</td>\n",
       "      <td>168086.0</td>\n",
       "      <td>NaN</td>\n",
       "      <td>37715700.0</td>\n",
       "      <td>16500.0</td>\n",
       "      <td>285122.0</td>\n",
       "      <td>NaN</td>\n",
       "      <td>455022.0</td>\n",
       "      <td>2004.0</td>\n",
       "      <td>1.223324e+08</td>\n",
       "      <td>1458359.0</td>\n",
       "      <td>8.388360e+07</td>\n",
       "      <td>Europe</td>\n",
       "    </tr>\n",
       "    <tr>\n",
       "      <th>4</th>\n",
       "      <td>Brazil</td>\n",
       "      <td>37052936</td>\n",
       "      <td>NaN</td>\n",
       "      <td>699087.0</td>\n",
       "      <td>NaN</td>\n",
       "      <td>36235329.0</td>\n",
       "      <td>NaN</td>\n",
       "      <td>118520.0</td>\n",
       "      <td>NaN</td>\n",
       "      <td>172056.0</td>\n",
       "      <td>3246.0</td>\n",
       "      <td>6.377617e+07</td>\n",
       "      <td>296146.0</td>\n",
       "      <td>2.153536e+08</td>\n",
       "      <td>South America</td>\n",
       "    </tr>\n",
       "  </tbody>\n",
       "</table>\n",
       "</div>"
      ],
      "text/plain": [
       "   Country  Total_cases  New_cases  Total_deaths  New_Deaths  Total_recovered  \\\n",
       "0      USA    105285347        NaN     1145661.0         NaN      102682399.0   \n",
       "1    India     44686611        NaN      530772.0         NaN       44153504.0   \n",
       "2   France     39622231        NaN      164963.0         NaN       39387145.0   \n",
       "3  Germany     38168908        NaN      168086.0         NaN       37715700.0   \n",
       "4   Brazil     37052936        NaN      699087.0         NaN       36235329.0   \n",
       "\n",
       "   New_recovered  Active_cases  Serious_critical  Cases/1Mpop  Deaths/1Mpop  \\\n",
       "0            NaN     1457287.0            2533.0     314467.0        3422.0   \n",
       "1            NaN        2335.0               NaN      31769.0         377.0   \n",
       "2            NaN       70123.0             869.0     604140.0        2515.0   \n",
       "3        16500.0      285122.0               NaN     455022.0        2004.0   \n",
       "4            NaN      118520.0               NaN     172056.0        3246.0   \n",
       "\n",
       "    Total_tests  Tests/1Mpop    Population           Area  \n",
       "0  1.166932e+09    3485405.0  3.348053e+08  North America  \n",
       "1  9.186799e+08     653106.0  1.406632e+09           Asia  \n",
       "2  2.714902e+08    4139547.0  6.558452e+07         Europe  \n",
       "3  1.223324e+08    1458359.0  8.388360e+07         Europe  \n",
       "4  6.377617e+07     296146.0  2.153536e+08  South America  "
      ]
     },
     "execution_count": 339,
     "metadata": {},
     "output_type": "execute_result"
    }
   ],
   "source": [
    "cv_df.head()"
   ]
  },
  {
   "attachments": {},
   "cell_type": "markdown",
   "metadata": {},
   "source": [
    "Ở một số quốc gia, chỉ có dữ liệu về `Total_cases` và không có các dữ liệu còn lại. Hãy cùng xem qua các quốc gia đó"
   ]
  },
  {
   "cell_type": "code",
   "execution_count": 340,
   "metadata": {},
   "outputs": [
    {
     "data": {
      "text/html": [
       "<div>\n",
       "<style scoped>\n",
       "    .dataframe tbody tr th:only-of-type {\n",
       "        vertical-align: middle;\n",
       "    }\n",
       "\n",
       "    .dataframe tbody tr th {\n",
       "        vertical-align: top;\n",
       "    }\n",
       "\n",
       "    .dataframe thead th {\n",
       "        text-align: right;\n",
       "    }\n",
       "</style>\n",
       "<table border=\"1\" class=\"dataframe\">\n",
       "  <thead>\n",
       "    <tr style=\"text-align: right;\">\n",
       "      <th></th>\n",
       "      <th>Country</th>\n",
       "      <th>Total_cases</th>\n",
       "      <th>New_cases</th>\n",
       "      <th>Total_deaths</th>\n",
       "      <th>New_Deaths</th>\n",
       "      <th>Total_recovered</th>\n",
       "      <th>New_recovered</th>\n",
       "      <th>Active_cases</th>\n",
       "      <th>Serious_critical</th>\n",
       "      <th>Cases/1Mpop</th>\n",
       "      <th>Deaths/1Mpop</th>\n",
       "      <th>Total_tests</th>\n",
       "      <th>Tests/1Mpop</th>\n",
       "      <th>Population</th>\n",
       "      <th>Area</th>\n",
       "    </tr>\n",
       "  </thead>\n",
       "  <tbody>\n",
       "    <tr>\n",
       "      <th>10</th>\n",
       "      <td>Turkey</td>\n",
       "      <td>17042722</td>\n",
       "      <td>NaN</td>\n",
       "      <td>101492.0</td>\n",
       "      <td>NaN</td>\n",
       "      <td>NaN</td>\n",
       "      <td>NaN</td>\n",
       "      <td>NaN</td>\n",
       "      <td>NaN</td>\n",
       "      <td>199186.0</td>\n",
       "      <td>1186.0</td>\n",
       "      <td>162743369.0</td>\n",
       "      <td>1902052.0</td>\n",
       "      <td>85561976.0</td>\n",
       "      <td>Asia</td>\n",
       "    </tr>\n",
       "    <tr>\n",
       "      <th>65</th>\n",
       "      <td>Tunisia</td>\n",
       "      <td>1150962</td>\n",
       "      <td>NaN</td>\n",
       "      <td>29331.0</td>\n",
       "      <td>NaN</td>\n",
       "      <td>NaN</td>\n",
       "      <td>NaN</td>\n",
       "      <td>NaN</td>\n",
       "      <td>44.0</td>\n",
       "      <td>95542.0</td>\n",
       "      <td>2435.0</td>\n",
       "      <td>5002248.0</td>\n",
       "      <td>415240.0</td>\n",
       "      <td>12046656.0</td>\n",
       "      <td>Africa</td>\n",
       "    </tr>\n",
       "    <tr>\n",
       "      <th>77</th>\n",
       "      <td>Paraguay</td>\n",
       "      <td>808327</td>\n",
       "      <td>NaN</td>\n",
       "      <td>19870.0</td>\n",
       "      <td>NaN</td>\n",
       "      <td>NaN</td>\n",
       "      <td>NaN</td>\n",
       "      <td>NaN</td>\n",
       "      <td>7.0</td>\n",
       "      <td>110641.0</td>\n",
       "      <td>2720.0</td>\n",
       "      <td>2657506.0</td>\n",
       "      <td>363751.0</td>\n",
       "      <td>7305843.0</td>\n",
       "      <td>South America</td>\n",
       "    </tr>\n",
       "    <tr>\n",
       "      <th>94</th>\n",
       "      <td>Honduras</td>\n",
       "      <td>472116</td>\n",
       "      <td>NaN</td>\n",
       "      <td>11111.0</td>\n",
       "      <td>NaN</td>\n",
       "      <td>NaN</td>\n",
       "      <td>NaN</td>\n",
       "      <td>NaN</td>\n",
       "      <td>105.0</td>\n",
       "      <td>46190.0</td>\n",
       "      <td>1087.0</td>\n",
       "      <td>1633222.0</td>\n",
       "      <td>159787.0</td>\n",
       "      <td>10221247.0</td>\n",
       "      <td>North America</td>\n",
       "    </tr>\n",
       "    <tr>\n",
       "      <th>111</th>\n",
       "      <td>Martinique</td>\n",
       "      <td>229807</td>\n",
       "      <td>NaN</td>\n",
       "      <td>1098.0</td>\n",
       "      <td>NaN</td>\n",
       "      <td>NaN</td>\n",
       "      <td>NaN</td>\n",
       "      <td>NaN</td>\n",
       "      <td>12.0</td>\n",
       "      <td>614314.0</td>\n",
       "      <td>2935.0</td>\n",
       "      <td>828928.0</td>\n",
       "      <td>2215870.0</td>\n",
       "      <td>374087.0</td>\n",
       "      <td>North America</td>\n",
       "    </tr>\n",
       "  </tbody>\n",
       "</table>\n",
       "</div>"
      ],
      "text/plain": [
       "        Country  Total_cases  New_cases  Total_deaths  New_Deaths  \\\n",
       "10       Turkey     17042722        NaN      101492.0         NaN   \n",
       "65      Tunisia      1150962        NaN       29331.0         NaN   \n",
       "77     Paraguay       808327        NaN       19870.0         NaN   \n",
       "94     Honduras       472116        NaN       11111.0         NaN   \n",
       "111  Martinique       229807        NaN        1098.0         NaN   \n",
       "\n",
       "     Total_recovered  New_recovered  Active_cases  Serious_critical  \\\n",
       "10               NaN            NaN           NaN               NaN   \n",
       "65               NaN            NaN           NaN              44.0   \n",
       "77               NaN            NaN           NaN               7.0   \n",
       "94               NaN            NaN           NaN             105.0   \n",
       "111              NaN            NaN           NaN              12.0   \n",
       "\n",
       "     Cases/1Mpop  Deaths/1Mpop  Total_tests  Tests/1Mpop  Population  \\\n",
       "10      199186.0        1186.0  162743369.0    1902052.0  85561976.0   \n",
       "65       95542.0        2435.0    5002248.0     415240.0  12046656.0   \n",
       "77      110641.0        2720.0    2657506.0     363751.0   7305843.0   \n",
       "94       46190.0        1087.0    1633222.0     159787.0  10221247.0   \n",
       "111     614314.0        2935.0     828928.0    2215870.0    374087.0   \n",
       "\n",
       "              Area  \n",
       "10            Asia  \n",
       "65          Africa  \n",
       "77   South America  \n",
       "94   North America  \n",
       "111  North America  "
      ]
     },
     "execution_count": 340,
     "metadata": {},
     "output_type": "execute_result"
    }
   ],
   "source": [
    "df_nan = cv_df.loc[(cv_df['Total_deaths'] + cv_df['Total_recovered'] + cv_df['Active_cases']) != cv_df['Total_cases']]\n",
    "df_nan.head()"
   ]
  },
  {
   "attachments": {},
   "cell_type": "markdown",
   "metadata": {},
   "source": [
    "Để xử lý các giá trị thiếu này bằng cách, khi group các `Area` và tính tổng của `Total_cases`, `Total_deaths`, `Total_recovered`, `Active_cases`, sau đó lấy hiệu của `Total_cases` với các thuộc tính còn lại sẽ được thuộc tính `Not_recored`. Đây chính là số lượng dữ liệu không được ghi nhận lại ở mỗi châu lục"
   ]
  },
  {
   "cell_type": "code",
   "execution_count": 341,
   "metadata": {},
   "outputs": [
    {
     "data": {
      "text/html": [
       "<div>\n",
       "<style scoped>\n",
       "    .dataframe tbody tr th:only-of-type {\n",
       "        vertical-align: middle;\n",
       "    }\n",
       "\n",
       "    .dataframe tbody tr th {\n",
       "        vertical-align: top;\n",
       "    }\n",
       "\n",
       "    .dataframe thead th {\n",
       "        text-align: right;\n",
       "    }\n",
       "</style>\n",
       "<table border=\"1\" class=\"dataframe\">\n",
       "  <thead>\n",
       "    <tr style=\"text-align: right;\">\n",
       "      <th></th>\n",
       "      <th>Total_cases</th>\n",
       "      <th>Total_deaths</th>\n",
       "      <th>Total_recovered</th>\n",
       "      <th>Active_cases</th>\n",
       "      <th>Not_recorded</th>\n",
       "    </tr>\n",
       "    <tr>\n",
       "      <th>Area</th>\n",
       "      <th></th>\n",
       "      <th></th>\n",
       "      <th></th>\n",
       "      <th></th>\n",
       "      <th></th>\n",
       "    </tr>\n",
       "  </thead>\n",
       "  <tbody>\n",
       "    <tr>\n",
       "      <th>Africa</th>\n",
       "      <td>12794281</td>\n",
       "      <td>258582.0</td>\n",
       "      <td>10957200.0</td>\n",
       "      <td>365441.0</td>\n",
       "      <td>1213058.0</td>\n",
       "    </tr>\n",
       "    <tr>\n",
       "      <th>Asia</th>\n",
       "      <td>214353455</td>\n",
       "      <td>1536768.0</td>\n",
       "      <td>182194883.0</td>\n",
       "      <td>13463317.0</td>\n",
       "      <td>17158487.0</td>\n",
       "    </tr>\n",
       "    <tr>\n",
       "      <th>Australia/Oceania</th>\n",
       "      <td>13996296</td>\n",
       "      <td>26116.0</td>\n",
       "      <td>13777285.0</td>\n",
       "      <td>67554.0</td>\n",
       "      <td>125341.0</td>\n",
       "    </tr>\n",
       "    <tr>\n",
       "      <th>Europe</th>\n",
       "      <td>246314132</td>\n",
       "      <td>2017091.0</td>\n",
       "      <td>241805757.0</td>\n",
       "      <td>2209898.0</td>\n",
       "      <td>281386.0</td>\n",
       "    </tr>\n",
       "    <tr>\n",
       "      <th>North America</th>\n",
       "      <td>124590104</td>\n",
       "      <td>1611388.0</td>\n",
       "      <td>119679974.0</td>\n",
       "      <td>2395512.0</td>\n",
       "      <td>903230.0</td>\n",
       "    </tr>\n",
       "    <tr>\n",
       "      <th>Other</th>\n",
       "      <td>721</td>\n",
       "      <td>15.0</td>\n",
       "      <td>706.0</td>\n",
       "      <td>0.0</td>\n",
       "      <td>0.0</td>\n",
       "    </tr>\n",
       "    <tr>\n",
       "      <th>South America</th>\n",
       "      <td>68008352</td>\n",
       "      <td>1350611.0</td>\n",
       "      <td>65524747.0</td>\n",
       "      <td>263710.0</td>\n",
       "      <td>869284.0</td>\n",
       "    </tr>\n",
       "  </tbody>\n",
       "</table>\n",
       "</div>"
      ],
      "text/plain": [
       "                   Total_cases  Total_deaths  Total_recovered  Active_cases  \\\n",
       "Area                                                                          \n",
       "Africa                12794281      258582.0       10957200.0      365441.0   \n",
       "Asia                 214353455     1536768.0      182194883.0    13463317.0   \n",
       "Australia/Oceania     13996296       26116.0       13777285.0       67554.0   \n",
       "Europe               246314132     2017091.0      241805757.0     2209898.0   \n",
       "North America        124590104     1611388.0      119679974.0     2395512.0   \n",
       "Other                      721          15.0            706.0           0.0   \n",
       "South America         68008352     1350611.0       65524747.0      263710.0   \n",
       "\n",
       "                   Not_recorded  \n",
       "Area                             \n",
       "Africa                1213058.0  \n",
       "Asia                 17158487.0  \n",
       "Australia/Oceania      125341.0  \n",
       "Europe                 281386.0  \n",
       "North America          903230.0  \n",
       "Other                       0.0  \n",
       "South America          869284.0  "
      ]
     },
     "execution_count": 341,
     "metadata": {},
     "output_type": "execute_result"
    }
   ],
   "source": [
    "# group by 'Area' and then get sum of 'Total_cases','Total_deaths', 'Total_recovered', 'Active_cases' in each area\n",
    "df_groupby_area = cv_df.groupby('Area')[['Total_cases','Total_deaths', 'Total_recovered', 'Active_cases']].sum()\n",
    "# specify data was not recorded\n",
    "df_groupby_area['Not_recorded'] = df_groupby_area['Total_cases'] - df_groupby_area[['Total_deaths', 'Total_recovered', 'Active_cases']].sum(axis = 1)\n",
    "df_groupby_area"
   ]
  },
  {
   "attachments": {},
   "cell_type": "markdown",
   "metadata": {},
   "source": [
    "Sau khi phân tích, ta có thể thấy rõ tổng số ca nhiễm (`Total_cases`), số ca tử vong (`Total_deaths`), số ca đã được cứu chữa (`Total_recovered`), số ca đang điều trị (`Active_cases`), và các số liệu không được ghi nhận ở mỗi châu lục (`Not_recorded`)"
   ]
  },
  {
   "attachments": {},
   "cell_type": "markdown",
   "metadata": {},
   "source": [
    "Để phục vụ cho việc trực quan hoá dữ liệu, ta cần chỉnh sửa data frame lại một chút. Vì Area \"Other\" có số ca nhiễm nhỏ hơn rất nhiều so với các khu vực khác nên sẽ không được trực quan dưới đây"
   ]
  },
  {
   "cell_type": "code",
   "execution_count": 342,
   "metadata": {},
   "outputs": [
    {
     "data": {
      "text/html": [
       "<div>\n",
       "<style scoped>\n",
       "    .dataframe tbody tr th:only-of-type {\n",
       "        vertical-align: middle;\n",
       "    }\n",
       "\n",
       "    .dataframe tbody tr th {\n",
       "        vertical-align: top;\n",
       "    }\n",
       "\n",
       "    .dataframe thead th {\n",
       "        text-align: right;\n",
       "    }\n",
       "</style>\n",
       "<table border=\"1\" class=\"dataframe\">\n",
       "  <thead>\n",
       "    <tr style=\"text-align: right;\">\n",
       "      <th></th>\n",
       "      <th>Total_recovered</th>\n",
       "      <th>Active_cases</th>\n",
       "      <th>Total_deaths</th>\n",
       "      <th>Not_recorded</th>\n",
       "      <th>Area</th>\n",
       "    </tr>\n",
       "    <tr>\n",
       "      <th>Area</th>\n",
       "      <th></th>\n",
       "      <th></th>\n",
       "      <th></th>\n",
       "      <th></th>\n",
       "      <th></th>\n",
       "    </tr>\n",
       "  </thead>\n",
       "  <tbody>\n",
       "    <tr>\n",
       "      <th>Africa</th>\n",
       "      <td>10957200.0</td>\n",
       "      <td>365441.0</td>\n",
       "      <td>258582.0</td>\n",
       "      <td>1213058.0</td>\n",
       "      <td>Africa</td>\n",
       "    </tr>\n",
       "    <tr>\n",
       "      <th>Australia/Oceania</th>\n",
       "      <td>13777285.0</td>\n",
       "      <td>67554.0</td>\n",
       "      <td>26116.0</td>\n",
       "      <td>125341.0</td>\n",
       "      <td>Australia/Oceania</td>\n",
       "    </tr>\n",
       "    <tr>\n",
       "      <th>South America</th>\n",
       "      <td>65524747.0</td>\n",
       "      <td>263710.0</td>\n",
       "      <td>1350611.0</td>\n",
       "      <td>869284.0</td>\n",
       "      <td>South America</td>\n",
       "    </tr>\n",
       "    <tr>\n",
       "      <th>North America</th>\n",
       "      <td>119679974.0</td>\n",
       "      <td>2395512.0</td>\n",
       "      <td>1611388.0</td>\n",
       "      <td>903230.0</td>\n",
       "      <td>North America</td>\n",
       "    </tr>\n",
       "    <tr>\n",
       "      <th>Asia</th>\n",
       "      <td>182194883.0</td>\n",
       "      <td>13463317.0</td>\n",
       "      <td>1536768.0</td>\n",
       "      <td>17158487.0</td>\n",
       "      <td>Asia</td>\n",
       "    </tr>\n",
       "    <tr>\n",
       "      <th>Europe</th>\n",
       "      <td>241805757.0</td>\n",
       "      <td>2209898.0</td>\n",
       "      <td>2017091.0</td>\n",
       "      <td>281386.0</td>\n",
       "      <td>Europe</td>\n",
       "    </tr>\n",
       "  </tbody>\n",
       "</table>\n",
       "</div>"
      ],
      "text/plain": [
       "                   Total_recovered  Active_cases  Total_deaths  Not_recorded  \\\n",
       "Area                                                                           \n",
       "Africa                  10957200.0      365441.0      258582.0     1213058.0   \n",
       "Australia/Oceania       13777285.0       67554.0       26116.0      125341.0   \n",
       "South America           65524747.0      263710.0     1350611.0      869284.0   \n",
       "North America          119679974.0     2395512.0     1611388.0      903230.0   \n",
       "Asia                   182194883.0    13463317.0     1536768.0    17158487.0   \n",
       "Europe                 241805757.0     2209898.0     2017091.0      281386.0   \n",
       "\n",
       "                                Area  \n",
       "Area                                  \n",
       "Africa                        Africa  \n",
       "Australia/Oceania  Australia/Oceania  \n",
       "South America          South America  \n",
       "North America          North America  \n",
       "Asia                            Asia  \n",
       "Europe                        Europe  "
      ]
     },
     "execution_count": 342,
     "metadata": {},
     "output_type": "execute_result"
    }
   ],
   "source": [
    "#data frame for stacked bar chart\n",
    "df_stacked_bar_chart = df_groupby_area[['Total_recovered', 'Active_cases', 'Total_deaths', 'Not_recorded']].sort_values(['Total_recovered'])\n",
    "df_stacked_bar_chart['Area'] = df_stacked_bar_chart.index\n",
    "df_stacked_bar_chart = df_stacked_bar_chart.drop('Other')\n",
    "df_stacked_bar_chart"
   ]
  },
  {
   "cell_type": "code",
   "execution_count": 343,
   "metadata": {},
   "outputs": [
    {
     "data": {
      "image/png": "[encoded data removed]",
      "text/plain": [
       "<Figure size 720x576 with 1 Axes>"
      ]
     },
     "metadata": {
      "needs_background": "light"
     },
     "output_type": "display_data"
    }
   ],
   "source": [
    "# stacked bar chart\n",
    "# Due to the very small of total cases in \"Other\" area, i decided not to visualize it\n",
    "ax = df_stacked_bar_chart.plot(x='Area', kind='bar', stacked=True, title='Stacked Bar Graph by dataframe', ylabel= \"Total cases\", figsize=(10, 8))\n",
    "ax.set_facecolor(bg);"
   ]
  },
  {
   "attachments": {},
   "cell_type": "markdown",
   "metadata": {},
   "source": [
    "- Nhận xét:\n",
    "\n",
    "    - Châu Âu (Europe) là khu vực có nhiều ca nhiễm nhất, trong khi Châu Đại Dương là khu vực có ít ca nhiễm nhất.\n",
    "    - Châu Á có tỉ trọng số ca nhiễm không được ghi nhận lại và số ca nhiễm đang điều trị trên tổng số ca là lớn nhất và châu Âu là nhỏ nhất"
   ]
  },
  {
   "attachments": {},
   "cell_type": "markdown",
   "metadata": {},
   "source": [
    "Biểu đồ trên chỉ cho thấy được tổng số ca nhiễm và tỉ trọng tình trạng nhiễm bệnh trên tổng số ca nhiễm của các châu lục là nhiều hay ít, nhưng vẫn khó thể trả lời cho câu hỏi liệu so với các khu vực có số lượng nhiễm bệnh ít thì tỉ lệ chữa khỏi bệnh của các quốc gia có nhiều ca nhiễm là cao hay thấp hơn, ti lệ người tử vong là cao hay thấp hơn,... Do đó, cần tìm tỉ lệ tình trạng nhiễm bệnh của các khu vực để làm rõ vấn đề này"
   ]
  },
  {
   "cell_type": "code",
   "execution_count": 344,
   "metadata": {},
   "outputs": [
    {
     "data": {
      "text/html": [
       "<div>\n",
       "<style scoped>\n",
       "    .dataframe tbody tr th:only-of-type {\n",
       "        vertical-align: middle;\n",
       "    }\n",
       "\n",
       "    .dataframe tbody tr th {\n",
       "        vertical-align: top;\n",
       "    }\n",
       "\n",
       "    .dataframe thead th {\n",
       "        text-align: right;\n",
       "    }\n",
       "</style>\n",
       "<table border=\"1\" class=\"dataframe\">\n",
       "  <thead>\n",
       "    <tr style=\"text-align: right;\">\n",
       "      <th></th>\n",
       "      <th>Total_recovered</th>\n",
       "      <th>Active_cases</th>\n",
       "      <th>Total_deaths</th>\n",
       "      <th>Not_recorded</th>\n",
       "      <th>Area</th>\n",
       "    </tr>\n",
       "    <tr>\n",
       "      <th>Area</th>\n",
       "      <th></th>\n",
       "      <th></th>\n",
       "      <th></th>\n",
       "      <th></th>\n",
       "      <th></th>\n",
       "    </tr>\n",
       "  </thead>\n",
       "  <tbody>\n",
       "    <tr>\n",
       "      <th>Asia</th>\n",
       "      <td>0.849974</td>\n",
       "      <td>0.062809</td>\n",
       "      <td>0.007169</td>\n",
       "      <td>0.080048</td>\n",
       "      <td>Asia</td>\n",
       "    </tr>\n",
       "    <tr>\n",
       "      <th>Africa</th>\n",
       "      <td>0.856414</td>\n",
       "      <td>0.028563</td>\n",
       "      <td>0.020211</td>\n",
       "      <td>0.094813</td>\n",
       "      <td>Africa</td>\n",
       "    </tr>\n",
       "    <tr>\n",
       "      <th>North America</th>\n",
       "      <td>0.960590</td>\n",
       "      <td>0.019227</td>\n",
       "      <td>0.012934</td>\n",
       "      <td>0.007250</td>\n",
       "      <td>North America</td>\n",
       "    </tr>\n",
       "    <tr>\n",
       "      <th>South America</th>\n",
       "      <td>0.963481</td>\n",
       "      <td>0.003878</td>\n",
       "      <td>0.019859</td>\n",
       "      <td>0.012782</td>\n",
       "      <td>South America</td>\n",
       "    </tr>\n",
       "    <tr>\n",
       "      <th>Europe</th>\n",
       "      <td>0.981697</td>\n",
       "      <td>0.008972</td>\n",
       "      <td>0.008189</td>\n",
       "      <td>0.001142</td>\n",
       "      <td>Europe</td>\n",
       "    </tr>\n",
       "    <tr>\n",
       "      <th>Australia/Oceania</th>\n",
       "      <td>0.984352</td>\n",
       "      <td>0.004827</td>\n",
       "      <td>0.001866</td>\n",
       "      <td>0.008955</td>\n",
       "      <td>Australia/Oceania</td>\n",
       "    </tr>\n",
       "  </tbody>\n",
       "</table>\n",
       "</div>"
      ],
      "text/plain": [
       "                   Total_recovered  Active_cases  Total_deaths  Not_recorded  \\\n",
       "Area                                                                           \n",
       "Asia                      0.849974      0.062809      0.007169      0.080048   \n",
       "Africa                    0.856414      0.028563      0.020211      0.094813   \n",
       "North America             0.960590      0.019227      0.012934      0.007250   \n",
       "South America             0.963481      0.003878      0.019859      0.012782   \n",
       "Europe                    0.981697      0.008972      0.008189      0.001142   \n",
       "Australia/Oceania         0.984352      0.004827      0.001866      0.008955   \n",
       "\n",
       "                                Area  \n",
       "Area                                  \n",
       "Asia                            Asia  \n",
       "Africa                        Africa  \n",
       "North America          North America  \n",
       "South America          South America  \n",
       "Europe                        Europe  \n",
       "Australia/Oceania  Australia/Oceania  "
      ]
     },
     "execution_count": 344,
     "metadata": {},
     "output_type": "execute_result"
    }
   ],
   "source": [
    "#data frame for 100% stacked bar chart\n",
    "df_100_stacked_bar_chart = df_groupby_area[['Total_recovered', 'Active_cases', 'Total_deaths', 'Not_recorded']].div(df_groupby_area['Total_cases'], axis=0).sort_values(['Total_recovered'])\n",
    "df_100_stacked_bar_chart['Area'] = df_100_stacked_bar_chart.index\n",
    "df_100_stacked_bar_chart = df_100_stacked_bar_chart.drop('Other')\n",
    "df_100_stacked_bar_chart"
   ]
  },
  {
   "cell_type": "code",
   "execution_count": 345,
   "metadata": {},
   "outputs": [
    {
     "data": {
      "image/png": "[encoded data removed]",
      "text/plain": [
       "<Figure size 720x576 with 1 Axes>"
      ]
     },
     "metadata": {
      "needs_background": "light"
     },
     "output_type": "display_data"
    }
   ],
   "source": [
    "ax = df_100_stacked_bar_chart.plot(x='Area', kind='bar', stacked=True, title='Stacked Bar Graph by dataframe', ylabel= \"Total cases\", figsize=(10, 8))\n",
    "ax.set_facecolor(bg);"
   ]
  },
  {
   "attachments": {},
   "cell_type": "markdown",
   "metadata": {},
   "source": [
    "- Nhận xét:\n",
    "\n",
    "    - Châu Đại Dương có tỉ lệ cao nhất về Total_recovered trên Total_cases, trong khi Châu Á thấp nhất.\n",
    "    - Châu Á có tỉ lệ cao nhất về Active_cases trên Total_cases, trong khi Châu Đại Dương và Nam Mỹ có tỉ lệ thấp nhất.\n",
    "    - So với các châu lục, Nam Mỹ và Châu Phi là 2 khu vực có tỉ lệ ca tử vong nhiều nhất. Và Châu Đại Dương là khu vực có ít ca tử vong nhất.\n",
    "    - Tỉ lệ các số liệu không được ghi nhận nhiều nhất ở khu vực châu Á và châu Phi và ít nhất ở châu Âu."
   ]
  },
  {
   "attachments": {},
   "cell_type": "markdown",
   "metadata": {},
   "source": [
    "- Kết luận:\n",
    "\n",
    "    1. Qua hai biểu đồ trên, ta có thể thấy rằng thật dễ hiểu khi Châu Đại Dương là một trong số những nơi có ít ca nhiễm nhất nên tỉ lệ được phục hồi cao. Tuy nhiên Châu Phi cũng nằm trong số các châu lục có ít ca nhiễm nhưng lại là nơi có tỉ lệ số ca tử vong nhiều nhất và thấp hơn các khu vực như châu Âu. Hơn nữa tỉ lệ thông tin không được ghi lại là rất cao.\n",
    "    2. Ngược lại, châu Âu là khu vực có nhiều ca nhiễm nhất, nhưng tỉ lệ phục hồi lại rất cao, đồng thời tỉ lệ tử vong cũng rất thấp.\n",
    "\n",
    "    → Qua hai điều trên ta có thể phỏng đoán ở các quốc gia phát triển thì cơ sở vật chất, thông tin truyền thông, y tế được trang bị đầy đủ hơn trong khi đó ở các quốc gia đang phát triển thì không được đáp ứng đầy đủ nên dẫn đến hệ quả trên."
   ]
  },
  {
   "attachments": {},
   "cell_type": "markdown",
   "metadata": {},
   "source": [
    "---"
   ]
  },
  {
   "attachments": {},
   "cell_type": "markdown",
   "metadata": {},
   "source": [
    "# **7. Tài liệu tham khảo** <a name = \"section7\"></a>\n",
    "<div style=\"text-align: right\"\n",
    "\n",
    "[Quay về mục lục](#TOC)"
   ]
  },
  {
   "attachments": {},
   "cell_type": "markdown",
   "metadata": {},
   "source": [
    "- [Stacked bar chart](https://www.geeksforgeeks.org/create-a-stacked-bar-plot-in-matplotlib/)\n",
    "\n",
    "- [Choropleth graph](https://stackoverflow.com/questions/67367051/plotly-px-choropleth-not-drawing-data-from-json-file)\n",
    "\n",
    "- [Pie chart](https://www.w3schools.com/python/matplotlib_pie_charts.asp)\n",
    "\n",
    "- [Line chart](https://www.w3schools.com/python/matplotlib_line.asp)\n",
    "\n",
    "- [Scatter plot with histograms](https://stackoverflow.com/questions/37008112/matplotlib-plotting-histogram-plot-just-above-scatter-plot)\n",
    "\n",
    "- [Scatter plot with regression line](https://vimentor.com/vi/lesson/20-su-dung-seaborn-de-ve-cac-bieu-do-thong-ke-phan-2-linear-relationships)\n",
    "\n",
    "- [Github 1](https://github.com/only2307/Covid19_Scraping_and_Visualize_in_Python)\n",
    "\n",
    "- [Github 2](https://github.com/khoakoxoan/Covid-analysis)"
   ]
  }
 ],
 "metadata": {
  "kernelspec": {
   "display_name": "Python 3",
   "language": "python",
   "name": "python3"
  },
  "language_info": {
   "codemirror_mode": {
    "name": "ipython",
    "version": 3
   },
   "file_extension": ".py",
   "mimetype": "text/x-python",
   "name": "python",
   "nbconvert_exporter": "python",
   "pygments_lexer": "ipython3",
   "version": "3.10.1"
  },
  "orig_nbformat": 4,
  "vscode": {
   "interpreter": {
    "hash": "a42ccb73e7d9bfdf27e036f1d2b8b681e55fc0743cc5586bc2474d4a60f4b886"
   }
  }
 },
 "nbformat": 4,
 "nbformat_minor": 2
}
